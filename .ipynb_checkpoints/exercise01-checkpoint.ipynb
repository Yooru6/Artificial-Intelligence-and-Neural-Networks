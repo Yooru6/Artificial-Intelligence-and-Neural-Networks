{
 "cells": [
  {
   "cell_type": "markdown",
   "metadata": {},
   "source": [
    "# Excercise 1: Linear regression\n",
    "\n",
    "Please write here your name and student id: Joonas Lehikoinen 1607956"
   ]
  },
  {
   "cell_type": "markdown",
   "metadata": {},
   "source": [
    "File bb.csv contains synthetic data about basketball player statistics. Columns Height, Years, Draftposition \n",
    "should be used to predict the value in column Pointsaverage. To do this the data should be read in, cleaned and scaled. Then a linear model that fits with the data is created. Last step is to predict the points average for Lauri Markkanen during his first years with Chicago Bulls. See https://en.wikipedia.org/wiki/Lauri_Markkanen for more information on Lauri."
   ]
  },
  {
   "cell_type": "code",
   "execution_count": 1,
   "metadata": {},
   "outputs": [],
   "source": [
    "import numpy as np\n",
    "from scipy import stats\n",
    "import matplotlib.pyplot as plt\n",
    "from sklearn import preprocessing\n",
    "from sklearn import linear_model\n",
    "from sklearn.model_selection import train_test_split\n",
    "from numpy import genfromtxt"
   ]
  },
  {
   "cell_type": "markdown",
   "metadata": {},
   "source": [
    "Read in the file \"bb.csv\" using numpy genfromtext() function."
   ]
  },
  {
   "cell_type": "code",
   "execution_count": 2,
   "metadata": {
    "deletable": false,
    "nbgrader": {
     "cell_type": "code",
     "checksum": "d661f07ed817897bbb28cfec523f1739",
     "grade": false,
     "grade_id": "cell-971cf73c4f569346",
     "locked": false,
     "schema_version": 3,
     "solution": true,
     "task": false
    }
   },
   "outputs": [],
   "source": [
    "#bb_data = ...\n",
    "# YOUR CODE HERE\n",
    "\n",
    "#raise NotImplementedError()\n",
    "bb_data = genfromtxt('bb.csv', delimiter=',',skip_header=1,dtype=float)"
   ]
  },
  {
   "cell_type": "code",
   "execution_count": 3,
   "metadata": {
    "deletable": false,
    "editable": false,
    "nbgrader": {
     "cell_type": "code",
     "checksum": "8514395261813a3762ec5eb188ecf2d1",
     "grade": true,
     "grade_id": "cell-4585178bcf80af78",
     "locked": true,
     "points": 2,
     "schema_version": 3,
     "solution": false,
     "task": false
    }
   },
   "outputs": [],
   "source": [
    "# Checking that data dimensions are correct.\n",
    "\n",
    "assert(bb_data.shape[0] == 30)\n",
    "assert(bb_data.shape[1] == 4)"
   ]
  },
  {
   "cell_type": "markdown",
   "metadata": {},
   "source": [
    "Check that data makes sense by seeing if all values are non-negative etc. Remove any illegal (possibly corrupted) rows of data with numpy.delete(), for example. Assign cleaned data to variable bb_data_cleaned."
   ]
  },
  {
   "cell_type": "code",
   "execution_count": 4,
   "metadata": {
    "deletable": false,
    "nbgrader": {
     "cell_type": "code",
     "checksum": "b9f61b5b8cb323de15fe6103b8d503cf",
     "grade": false,
     "grade_id": "cell-c6857dbec1a777d0",
     "locked": false,
     "schema_version": 3,
     "solution": true,
     "task": false
    }
   },
   "outputs": [
    {
     "name": "stdout",
     "output_type": "stream",
     "text": [
      "DescribeResult(nobs=4, minmax=(1.0, 212.0), mean=61.5075, variance=10132.676891666668, skewness=1.1318073901072683, kurtosis=-0.6839932646441302)\n",
      "[[212.      1.     21.     12.03 ]\n",
      " [200.      5.     15.     14.45 ]\n",
      " [195.      6.      3.     27.725]\n",
      " [211.      2.     12.     16.665]\n",
      " [206.      8.      8.     27.49 ]\n",
      " [216.      3.     11.     16.19 ]\n",
      " [222.      1.     27.      1.78 ]\n",
      " [182.     11.      2.     34.18 ]\n",
      " [199.      2.      2.     28.485]\n",
      " [209.     10.     14.     20.235]\n",
      " [211.      4.     25.      5.065]\n",
      " [218.      6.     21.     -1.   ]\n",
      " [220.      5.      1.     30.35 ]\n",
      " [219.      9.     28.      6.235]\n",
      " [200.     11.      3.     32.55 ]\n",
      " [203.     15.      8.     30.295]\n",
      " [207.      1.     16.      8.455]\n",
      " [189.      6.     11.     20.435]\n",
      " [198.      4.     14.     16.77 ]\n",
      " [193.      8.     11.     22.595]\n",
      " [198.      3.      1.     27.92 ]\n",
      " [193.      9.     30.      1.045]\n",
      " [211.     12.     22.      9.165]\n",
      " [  0.     11.     19.     11.48 ]\n",
      " [209.      4.      9.     17.435]\n",
      " [199.      7.     19.     15.935]\n",
      " [216.     10.     21.     18.04 ]\n",
      " [219.      2.     22.      3.785]\n",
      " [222.      4.      7.     27.43 ]\n",
      " [198.      9.      2.     27.32 ]]\n",
      "delete\n",
      "delete\n"
     ]
    }
   ],
   "source": [
    "#bb_data_cleaned = \n",
    "# YOUR CODE HERE\n",
    "\n",
    "#bb_data = bb_data[~np.isnan(bb_data)]\n",
    "#bb_data=np.delete(bb_data,np.where(~bb_data.any(axis=1))[0], axis=0) #Toimiii\n",
    "#bb_data=bb_data[~removeZN]\n",
    "\n",
    "print(stats.describe(bb_data[0]))\n",
    "print(bb_data)\n",
    "\n",
    "k=0\n",
    "for i in range(len(bb_data)):\n",
    "    for j in range(len(bb_data[k])):\n",
    "        \n",
    "        if(bb_data[k][j]<=0):\n",
    "            bb_data=np.delete(bb_data,k,0)\n",
    "            k-=1\n",
    "            print('delete')\n",
    "    k+=1\n",
    "             \n",
    "bb_data.shape\n",
    "bb_data_cleaned=bb_data\n",
    "#raise NotImplementedError()"
   ]
  },
  {
   "cell_type": "code",
   "execution_count": 5,
   "metadata": {
    "deletable": false,
    "editable": false,
    "nbgrader": {
     "cell_type": "code",
     "checksum": "4b82cad3c2cbc926ecd6e11744e76d4c",
     "grade": true,
     "grade_id": "cell-561342f9d919ec70",
     "locked": true,
     "points": 2,
     "schema_version": 3,
     "solution": false,
     "task": false
    }
   },
   "outputs": [],
   "source": [
    "assert(bb_data_cleaned.shape[0] == 28)\n",
    "assert(bb_data_cleaned.shape[1] == 4)\n",
    "assert(np.sum(bb_data_cleaned > 0) == 112)"
   ]
  },
  {
   "cell_type": "markdown",
   "metadata": {},
   "source": [
    "Assign to variable x the features, to y the values we want to predict."
   ]
  },
  {
   "cell_type": "code",
   "execution_count": 6,
   "metadata": {
    "deletable": false,
    "nbgrader": {
     "cell_type": "code",
     "checksum": "a8e534ec459606d8cf49ab231109f23c",
     "grade": false,
     "grade_id": "cell-b3a0889592837bd4",
     "locked": false,
     "schema_version": 3,
     "solution": true,
     "task": false
    }
   },
   "outputs": [
    {
     "name": "stdout",
     "output_type": "stream",
     "text": [
      "[[212.   1.  21.]\n",
      " [200.   5.  15.]\n",
      " [195.   6.   3.]\n",
      " [211.   2.  12.]\n",
      " [206.   8.   8.]\n",
      " [216.   3.  11.]\n",
      " [222.   1.  27.]\n",
      " [182.  11.   2.]\n",
      " [199.   2.   2.]\n",
      " [209.  10.  14.]\n",
      " [211.   4.  25.]\n",
      " [220.   5.   1.]\n",
      " [219.   9.  28.]\n",
      " [200.  11.   3.]\n",
      " [203.  15.   8.]\n",
      " [207.   1.  16.]\n",
      " [189.   6.  11.]\n",
      " [198.   4.  14.]\n",
      " [193.   8.  11.]\n",
      " [198.   3.   1.]\n",
      " [193.   9.  30.]\n",
      " [211.  12.  22.]\n",
      " [209.   4.   9.]\n",
      " [199.   7.  19.]\n",
      " [216.  10.  21.]\n",
      " [219.   2.  22.]\n",
      " [222.   4.   7.]\n",
      " [198.   9.   2.]]\n",
      "[[12.03 ]\n",
      " [14.45 ]\n",
      " [27.725]\n",
      " [16.665]\n",
      " [27.49 ]\n",
      " [16.19 ]\n",
      " [ 1.78 ]\n",
      " [34.18 ]\n",
      " [28.485]\n",
      " [20.235]\n",
      " [ 5.065]\n",
      " [30.35 ]\n",
      " [ 6.235]\n",
      " [32.55 ]\n",
      " [30.295]\n",
      " [ 8.455]\n",
      " [20.435]\n",
      " [16.77 ]\n",
      " [22.595]\n",
      " [27.92 ]\n",
      " [ 1.045]\n",
      " [ 9.165]\n",
      " [17.435]\n",
      " [15.935]\n",
      " [18.04 ]\n",
      " [ 3.785]\n",
      " [27.43 ]\n",
      " [27.32 ]]\n"
     ]
    }
   ],
   "source": [
    "x = bb_data_cleaned[:,:3] \n",
    "y = bb_data_cleaned[:,[3]]\n",
    "print(x)\n",
    "print(y)\n",
    "# YOUR CODE HERE\n",
    "#raise NotImplementedError()"
   ]
  },
  {
   "cell_type": "code",
   "execution_count": 7,
   "metadata": {
    "deletable": false,
    "editable": false,
    "nbgrader": {
     "cell_type": "code",
     "checksum": "43b67d8ee0e67ecb36bf90db21e8f9e6",
     "grade": true,
     "grade_id": "cell-48e90af1530814b8",
     "locked": true,
     "points": 2,
     "schema_version": 3,
     "solution": false,
     "task": false
    }
   },
   "outputs": [],
   "source": [
    "assert(x.shape[0] == 28)\n",
    "assert(x.shape[1] == 3)\n",
    "assert(y.shape[0] == 28)"
   ]
  },
  {
   "cell_type": "markdown",
   "metadata": {},
   "source": [
    "Scale x data with sklearn StandardScaler."
   ]
  },
  {
   "cell_type": "code",
   "execution_count": 8,
   "metadata": {
    "deletable": false,
    "nbgrader": {
     "cell_type": "code",
     "checksum": "7be79bbddce0a5a9e1d40e30deadff2f",
     "grade": false,
     "grade_id": "cell-a9e291c9857349ef",
     "locked": false,
     "schema_version": 3,
     "solution": true,
     "task": false
    }
   },
   "outputs": [],
   "source": [
    "from sklearn.preprocessing import StandardScaler\n",
    "scaler = StandardScaler()\n",
    "scaled_x = scaler.fit(x).transform(x)\n",
    "# YOUR CODE HERE\n",
    "#raise NotImplementedError()"
   ]
  },
  {
   "cell_type": "code",
   "execution_count": 9,
   "metadata": {
    "deletable": false,
    "editable": false,
    "nbgrader": {
     "cell_type": "code",
     "checksum": "f85c735a131af87937999fb48c22e4b7",
     "grade": true,
     "grade_id": "cell-4c079021fc92b5dc",
     "locked": true,
     "points": 3,
     "schema_version": 3,
     "solution": false,
     "task": false
    }
   },
   "outputs": [],
   "source": [
    "eps = 0.0001\n",
    "assert(np.sum(scaled_x.mean(axis=0)) < eps)\n",
    "assert(np.sum(scaled_x.std(axis=0)) < 3 + eps)"
   ]
  },
  {
   "cell_type": "markdown",
   "metadata": {},
   "source": [
    "Split the data into training (x_train, y_train) and test (x_test, y_test) sets with the test set size 30% of all data."
   ]
  },
  {
   "cell_type": "code",
   "execution_count": 10,
   "metadata": {
    "deletable": false,
    "nbgrader": {
     "cell_type": "code",
     "checksum": "0947b54858fe4c11866d8dfe987ab36f",
     "grade": false,
     "grade_id": "cell-29ace0674e950e2b",
     "locked": false,
     "schema_version": 3,
     "solution": true,
     "task": false
    }
   },
   "outputs": [],
   "source": [
    "from sklearn.model_selection import train_test_split\n",
    "\n",
    "x_train,x_test,y_train,y_test =train_test_split(x,y, test_size=0.3,random_state=8) \n",
    "\n",
    "np.random.seed(42) # Please do not remove\n",
    "# YOUR CODE HERE\n",
    "#raise NotImplementedError()"
   ]
  },
  {
   "cell_type": "code",
   "execution_count": 11,
   "metadata": {
    "deletable": false,
    "editable": false,
    "nbgrader": {
     "cell_type": "code",
     "checksum": "94728acc29f25a1fc425c48781157140",
     "grade": true,
     "grade_id": "cell-3a21470d6ac6382d",
     "locked": true,
     "points": 3,
     "schema_version": 3,
     "solution": false,
     "task": false
    }
   },
   "outputs": [],
   "source": [
    "assert(x_train.shape[0] == 19 and x_test.shape[0] == 9)\n",
    "assert(y_train.shape[0] == 19 and y_test.shape[0] == 9)\n",
    "assert(x_train.shape[1] == 3 and x_test.shape[1] == 3)"
   ]
  },
  {
   "cell_type": "markdown",
   "metadata": {},
   "source": [
    "Create a linear model.\n",
    "\n",
    "Assign the R^2 score of the model computed with test set to variable r2test."
   ]
  },
  {
   "cell_type": "code",
   "execution_count": 12,
   "metadata": {
    "deletable": false,
    "nbgrader": {
     "cell_type": "code",
     "checksum": "f6bada4d66a3bcd447ac3a2d2644a41c",
     "grade": false,
     "grade_id": "cell-6712f2422a398404",
     "locked": false,
     "schema_version": 3,
     "solution": true,
     "task": false
    }
   },
   "outputs": [],
   "source": [
    "model = linear_model.LinearRegression()\n",
    "model.fit(x_train,y_train)\n",
    "\n",
    "# ...\n",
    "r2test = model.score(x_test,y_test)\n",
    "# YOUR CODE HERE\n",
    "#raise NotImplementedError()"
   ]
  },
  {
   "cell_type": "code",
   "execution_count": 13,
   "metadata": {
    "deletable": false,
    "editable": false,
    "nbgrader": {
     "cell_type": "code",
     "checksum": "01d513402371d1ab146f63f9cf6432e1",
     "grade": true,
     "grade_id": "cell-70fa596fc4ffa881",
     "locked": true,
     "points": 4,
     "schema_version": 3,
     "solution": false,
     "task": false
    }
   },
   "outputs": [],
   "source": [
    "assert(r2test - 0.8161738892 < eps)"
   ]
  },
  {
   "cell_type": "markdown",
   "metadata": {},
   "source": [
    "Predict Lauri Markkanen's point average for seasons 17-18 and 18-19 using your model. Assign your predictions to variables lauri1718 and lauri1819."
   ]
  },
  {
   "cell_type": "code",
   "execution_count": 14,
   "metadata": {
    "deletable": false,
    "nbgrader": {
     "cell_type": "code",
     "checksum": "b55214376edc190f9f5c09efd62a1ede",
     "grade": false,
     "grade_id": "cell-b0b50676b5ac76e7",
     "locked": false,
     "schema_version": 3,
     "solution": true,
     "task": false
    }
   },
   "outputs": [
    {
     "name": "stdout",
     "output_type": "stream",
     "text": [
      "[[19.08897082]]\n",
      "[[20.05437505]]\n"
     ]
    }
   ],
   "source": [
    "#model.predict()\n",
    "#lauri1718=None\n",
    "lauri1718 =model.predict(np.array([[213,0,7]]))\n",
    "#lauri1718 =model.predict(lauri1718)\n",
    "print(lauri1718)\n",
    "lauri1819 = model.predict(np.array([[213,1,7]]))\n",
    "print(lauri1819)\n",
    "# YOUR CODE HERE\n",
    "#raise NotImplementedError()"
   ]
  },
  {
   "cell_type": "code",
   "execution_count": 15,
   "metadata": {
    "deletable": false,
    "editable": false,
    "nbgrader": {
     "cell_type": "code",
     "checksum": "98ece1bd9a2550c91f210d791e48279d",
     "grade": true,
     "grade_id": "cell-882daf9267fe74cc",
     "locked": true,
     "points": 4,
     "schema_version": 3,
     "solution": false,
     "task": false
    }
   },
   "outputs": [],
   "source": [
    "assert(lauri1718 - 19.78996201 < eps)\n",
    "assert(lauri1819 - 20.76399068 < eps)"
   ]
  },
  {
   "cell_type": "code",
   "execution_count": null,
   "metadata": {},
   "outputs": [],
   "source": []
  }
 ],
 "metadata": {
  "kernelspec": {
   "display_name": "Python 3",
   "language": "python",
   "name": "python3"
  },
  "language_info": {
   "codemirror_mode": {
    "name": "ipython",
    "version": 3
   },
   "file_extension": ".py",
   "mimetype": "text/x-python",
   "name": "python",
   "nbconvert_exporter": "python",
   "pygments_lexer": "ipython3",
   "version": "3.7.6"
  }
 },
 "nbformat": 4,
 "nbformat_minor": 2
}
