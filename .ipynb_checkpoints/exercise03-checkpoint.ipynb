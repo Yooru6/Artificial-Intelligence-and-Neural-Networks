{
 "cells": [
  {
   "cell_type": "markdown",
   "metadata": {},
   "source": [
    "### Exercise 3: Binary classification"
   ]
  },
  {
   "cell_type": "markdown",
   "metadata": {},
   "source": [
    "Name and student id: "
   ]
  },
  {
   "cell_type": "code",
   "execution_count": 1,
   "metadata": {},
   "outputs": [],
   "source": [
    "import statistics\n",
    "import numpy as np\n",
    "from numpy import genfromtxt\n",
    "import matplotlib.pyplot as plt\n",
    "from sklearn.utils.extmath import cartesian\n",
    "from sklearn import preprocessing\n",
    "from sklearn.model_selection import train_test_split\n",
    "from sklearn.svm import SVC\n",
    "from sklearn.model_selection import KFold\n",
    "import pandas as pd"
   ]
  },
  {
   "cell_type": "markdown",
   "metadata": {},
   "source": [
    "Read csv data from file 'exercise03.csv' into variable data. Data has three columns; two x-values, and y value (-1, 1) on each row."
   ]
  },
  {
   "cell_type": "code",
   "execution_count": 2,
   "metadata": {
    "deletable": false,
    "nbgrader": {
     "cell_type": "code",
     "checksum": "dd33f225fc43cc94190e2ac94a715727",
     "grade": false,
     "grade_id": "cell-d2735e4dbc032097",
     "locked": false,
     "schema_version": 3,
     "solution": true,
     "task": false
    }
   },
   "outputs": [],
   "source": [
    "data = genfromtxt('exercise03.csv', delimiter=',',skip_header=1)\n",
    "data_pre=pd.read_csv('exercise03.csv',index_col=None,na_values='?',sep=',',header=None)\n",
    "#print(data_pre.head(10))\n",
    "#data = data_pre.values\n",
    "\n",
    "# YOUR CODE HERE\n",
    "#raise NotImplementedError()"
   ]
  },
  {
   "cell_type": "code",
   "execution_count": 3,
   "metadata": {
    "deletable": false,
    "editable": false,
    "nbgrader": {
     "cell_type": "code",
     "checksum": "fb74f5bd8dc6ab5e55971cd6370983e9",
     "grade": true,
     "grade_id": "cell-7f12b4765519e8dd",
     "locked": true,
     "points": 2,
     "schema_version": 3,
     "solution": false,
     "task": false
    }
   },
   "outputs": [],
   "source": [
    "assert(data.shape[1] == 3)"
   ]
  },
  {
   "cell_type": "markdown",
   "metadata": {},
   "source": [
    "Split data into x (features) and y (labels)."
   ]
  },
  {
   "cell_type": "code",
   "execution_count": 4,
   "metadata": {
    "deletable": false,
    "nbgrader": {
     "cell_type": "code",
     "checksum": "efed20daed081c93834c7a510f3a4847",
     "grade": false,
     "grade_id": "cell-b39262d7620739ec",
     "locked": false,
     "schema_version": 3,
     "solution": true,
     "task": false
    }
   },
   "outputs": [
    {
     "name": "stdout",
     "output_type": "stream",
     "text": [
      "[ 1.  1. -1. -1.  1. -1.  1. -1.  1. -1.  1.  1.  1.  1. -1. -1.  1.  1.\n",
      " -1.  1. -1. -1.  1. -1.  1. -1.  1. -1. -1.  1.  1.  1.  1. -1. -1. -1.\n",
      " -1. -1. -1.  1.  1. -1. -1. -1.  1.  1.  1.  1.  1.  1. -1. -1.]\n",
      "[[ 12.  14.]\n",
      " [-19. -10.]\n",
      " [ -3.  10.]\n",
      " [ 12.   9.]\n",
      " [ 17.  18.]\n",
      " [  9.   2.]\n",
      " [ 15. -18.]\n",
      " [ -6.   6.]\n",
      " [-17.  14.]\n",
      " [ -6.  12.]\n",
      " [ 11.  20.]\n",
      " [ 18.  15.]\n",
      " [-19.   8.]\n",
      " [-13. -19.]\n",
      " [  9.   5.]\n",
      " [ 10. -12.]\n",
      " [ 17.   7.]\n",
      " [ 19.  19.]\n",
      " [  2.  -4.]\n",
      " [-16. -17.]\n",
      " [-17.   1.]\n",
      " [-14.  10.]\n",
      " [ 16.  11.]\n",
      " [  2.  14.]\n",
      " [  7. -19.]\n",
      " [  8.   4.]\n",
      " [ 18.   8.]\n",
      " [  7.  -6.]\n",
      " [-14.   9.]\n",
      " [ 19. -11.]\n",
      " [-17.  18.]\n",
      " [-15.  13.]\n",
      " [ 17. -12.]\n",
      " [ -3.  16.]\n",
      " [ -8.   2.]\n",
      " [  1.   8.]\n",
      " [ -9.   0.]\n",
      " [  4.  10.]\n",
      " [ -4. -10.]\n",
      " [ 10. -20.]\n",
      " [ 19. -19.]\n",
      " [ 13.  11.]\n",
      " [  9. -10.]\n",
      " [  6. -11.]\n",
      " [-18.  -2.]\n",
      " [-13.  19.]\n",
      " [ 18.   2.]\n",
      " [-20.  -5.]\n",
      " [-18. -10.]\n",
      " [ 19.   9.]\n",
      " [ -9.  11.]\n",
      " [ 11.   2.]]\n"
     ]
    }
   ],
   "source": [
    "x = data[:,:2]\n",
    "y = data[:,2]\n",
    "# YOUR CODE HERE\n",
    "#raise NotImplementedError()\n",
    "print(y)\n",
    "print(x)"
   ]
  },
  {
   "cell_type": "code",
   "execution_count": 5,
   "metadata": {
    "deletable": false,
    "editable": false,
    "nbgrader": {
     "cell_type": "code",
     "checksum": "729051b78ebce446babeb2c90f12b129",
     "grade": true,
     "grade_id": "cell-5b86b49d577ffb3c",
     "locked": true,
     "points": 2,
     "schema_version": 3,
     "solution": false,
     "task": false
    }
   },
   "outputs": [],
   "source": [
    "assert(x.shape[1] == 2)"
   ]
  },
  {
   "cell_type": "code",
   "execution_count": 6,
   "metadata": {},
   "outputs": [
    {
     "data": {
      "image/png": "[encoded data removed]",
      "text/plain": [
       "<Figure size 432x288 with 1 Axes>"
      ]
     },
     "metadata": {
      "needs_background": "light"
     },
     "output_type": "display_data"
    }
   ],
   "source": [
    "plt.plot(x[y==-1][:,0], x[y==-1][:,1], 'ro')\n",
    "plt.plot(x[y==1][:,0], x[y==1][:,1], 'bo')\n",
    "plt.show()"
   ]
  },
  {
   "cell_type": "markdown",
   "metadata": {},
   "source": [
    "Is the data linearly separable, ie. can red and blue dots be (almost) separated by a line? Write your answer in the next cell."
   ]
  },
  {
   "cell_type": "code",
   "execution_count": 42,
   "metadata": {
    "deletable": false,
    "nbgrader": {
     "cell_type": "code",
     "checksum": "71e65a5c0a263005b8efe579065efc58",
     "grade": true,
     "grade_id": "cell-a4ff617650931f38",
     "locked": false,
     "points": 2,
     "schema_version": 3,
     "solution": true,
     "task": false
    }
   },
   "outputs": [],
   "source": [
    "# assing value \"Yes\" or \"No\" to variable answer.\n",
    "# answer = NO not possible\n",
    "# YOUR CODE HERE\n",
    "\n",
    "#raise NotImplementedError()"
   ]
  },
  {
   "cell_type": "markdown",
   "metadata": {},
   "source": [
    "Scale features using StandardScaler. Assign scaled feature data to variable scaled_x."
   ]
  },
  {
   "cell_type": "code",
   "execution_count": 8,
   "metadata": {
    "deletable": false,
    "nbgrader": {
     "cell_type": "code",
     "checksum": "893f5209b2b4bf1924095f982f4c22e3",
     "grade": false,
     "grade_id": "cell-089bf7e76cefe1d3",
     "locked": false,
     "schema_version": 3,
     "solution": true,
     "task": false
    }
   },
   "outputs": [],
   "source": [
    "scaler = preprocessing.StandardScaler()\n",
    "scaled_x = scaler.fit(x).transform(x)\n",
    "scaled_y = y#scaler.fit(y).transform(y)\n",
    "#raise NotImplementedError()"
   ]
  },
  {
   "cell_type": "code",
   "execution_count": 9,
   "metadata": {
    "deletable": false,
    "editable": false,
    "nbgrader": {
     "cell_type": "code",
     "checksum": "49af20bfde01478cfcc3bce11394a58c",
     "grade": true,
     "grade_id": "cell-b48cb86fb5e0cd9c",
     "locked": true,
     "points": 2,
     "schema_version": 3,
     "solution": false,
     "task": false
    }
   },
   "outputs": [],
   "source": [
    "np.testing.assert_almost_equal(scaled_x.mean(axis=0),0.0, decimal=3)"
   ]
  },
  {
   "cell_type": "markdown",
   "metadata": {},
   "source": [
    "#### SVC with RBF kernel\n",
    "\n",
    "To estimate a good value for gamma parameter, we'll loop over a list of gammas (numpy array gammas in cell below). For each gamma value we'll use KFold() object to perform K-Fold validation - otherwise metrics for different gammas would have too much variance and deciding on the best one would be hard. We'll use the model object score() method to compute score for training and test sets separately and store them in numpy arrays. After all folds for a gamma value have been scored, we'll average the scores. Finally, the gamma with highest testing score is selected. To get more intuition, we'll also plot the values in gamma/score diagram.\n",
    "\n",
    "Tasks to do\n",
    "\n",
    "1) Assign reasonable values to gamma array to find the best gamma value. Note that you can experiment with this after you have completed the other steps\n",
    "\n",
    "2) Use train_index and test_index to access your whole data set so as to get training and test data sets for one round of training and evaluation\n",
    "\n",
    "3) Create a model object and train it. Note that re-using model object (repeadetly calling fit()) will continue training on top of the earlier result.\n",
    "\n",
    "4) Use the model to get training and test scores"
   ]
  },
  {
   "cell_type": "code",
   "execution_count": 10,
   "metadata": {
    "deletable": false,
    "nbgrader": {
     "cell_type": "code",
     "checksum": "6b11d9f4f14361b018d8800e864dfdd5",
     "grade": false,
     "grade_id": "cell-1aac4f1195c16809",
     "locked": false,
     "schema_version": 3,
     "solution": true,
     "task": false
    }
   },
   "outputs": [
    {
     "name": "stdout",
     "output_type": "stream",
     "text": [
      "Gamma:  0.01\n",
      "Score:  0.625\n",
      "accuracy:  0.625 \n",
      "\n",
      "Gamma:  0.01\n",
      "Score:  0.625\n",
      "accuracy:  0.625 \n",
      "\n",
      "Gamma:  0.01\n",
      "Score:  0.625\n",
      "accuracy:  0.625 \n",
      "\n",
      "Gamma:  0.01\n",
      "Score:  0.625\n",
      "accuracy:  0.625 \n",
      "\n",
      "Gamma:  0.1\n",
      "Score:  0.875\n",
      "accuracy:  0.875 \n",
      "\n",
      "Gamma:  0.1\n",
      "Score:  0.875\n",
      "accuracy:  0.875 \n",
      "\n",
      "Gamma:  0.1\n",
      "Score:  0.875\n",
      "accuracy:  0.875 \n",
      "\n",
      "Gamma:  0.1\n",
      "Score:  0.875\n",
      "accuracy:  0.875 \n",
      "\n",
      "Gamma:  0.15\n",
      "Score:  1.0\n",
      "accuracy:  1.0 \n",
      "\n",
      "Gamma:  0.15\n",
      "Score:  1.0\n",
      "accuracy:  1.0 \n",
      "\n",
      "Gamma:  0.15\n",
      "Score:  1.0\n",
      "accuracy:  1.0 \n",
      "\n",
      "Gamma:  0.15\n",
      "Score:  1.0\n",
      "accuracy:  1.0 \n",
      "\n",
      "Gamma:  0.18\n",
      "Score:  1.0\n",
      "accuracy:  1.0 \n",
      "\n",
      "Gamma:  0.18\n",
      "Score:  1.0\n",
      "accuracy:  1.0 \n",
      "\n",
      "Gamma:  0.18\n",
      "Score:  1.0\n",
      "accuracy:  1.0 \n",
      "\n",
      "Gamma:  0.18\n",
      "Score:  1.0\n",
      "accuracy:  1.0 \n",
      "\n",
      "Gamma:  0.2\n",
      "Score:  1.0\n",
      "accuracy:  1.0 \n",
      "\n",
      "Gamma:  0.2\n",
      "Score:  1.0\n",
      "accuracy:  1.0 \n",
      "\n",
      "Gamma:  0.2\n",
      "Score:  1.0\n",
      "accuracy:  1.0 \n",
      "\n",
      "Gamma:  0.2\n",
      "Score:  1.0\n",
      "accuracy:  1.0 \n",
      "\n",
      "Gamma:  0.3\n",
      "Score:  1.0\n",
      "accuracy:  1.0 \n",
      "\n",
      "Gamma:  0.3\n",
      "Score:  1.0\n",
      "accuracy:  1.0 \n",
      "\n",
      "Gamma:  0.3\n",
      "Score:  1.0\n",
      "accuracy:  1.0 \n",
      "\n",
      "Gamma:  0.3\n",
      "Score:  1.0\n",
      "accuracy:  1.0 \n",
      "\n",
      "Gamma:  0.5\n",
      "Score:  0.8125\n",
      "accuracy:  0.8125 \n",
      "\n",
      "Gamma:  0.5\n",
      "Score:  0.8125\n",
      "accuracy:  0.8125 \n",
      "\n",
      "Gamma:  0.5\n",
      "Score:  0.8125\n",
      "accuracy:  0.8125 \n",
      "\n",
      "Gamma:  0.5\n",
      "Score:  0.8125\n",
      "accuracy:  0.8125 \n",
      "\n"
     ]
    },
    {
     "data": {
      "image/png": "[encoded data removed]",
      "text/plain": [
       "<Figure size 432x288 with 1 Axes>"
      ]
     },
     "metadata": {
      "needs_background": "light"
     },
     "output_type": "display_data"
    },
    {
     "name": "stdout",
     "output_type": "stream",
     "text": [
      "Gamma with highest test score 0.15\n"
     ]
    }
   ],
   "source": [
    "from sklearn.metrics import accuracy_score\n",
    "# 1) gammas = np.array([0.01, 0.05]) - choose your values\n",
    "gammas = np.array([0.01,0.1,0.15,0.18,0.2,0.3,0.5])\n",
    "# YOUR CODE HERE\n",
    "#raise NotImplementedError()\n",
    "avtrainscores = np.empty_like(gammas)\n",
    "avtestscores = np.empty_like(gammas)\n",
    "\n",
    "\n",
    "for idx, gamma in enumerate(gammas):\n",
    "\n",
    "    kf = KFold(n_splits = 4)\n",
    "    train_scores = []\n",
    "    test_scores = []\n",
    "\n",
    "    for train_index, test_index in kf.split(scaled_x):\n",
    "        x_train, x_test, y_train, y_test = train_test_split(scaled_x,scaled_y,test_size=0.3,random_state=5)\n",
    "        #print(y_train)\n",
    "        # 2) get x_train, x_test and y_train, y_test by the indices\n",
    "        # YOUR CODE HERE\n",
    "        #raise NotImplementedError()\n",
    "        #print(gamma)\n",
    "        # 3) create an SVC() model object with the gamma parameter specified and fit it\n",
    "        m = SVC(gamma=gamma)\n",
    "        m = m.fit(scaled_x,y)\n",
    "        # YOUR CODE HERE\n",
    "        #raise NotImplementedError()\n",
    "        \n",
    "        predictY=m.predict(x_test)\n",
    "        # 4) Assign scores to train_score and test_score\n",
    "        train_score = m.score(x_train,y_train)\n",
    "        test_score = m.score(x_test,y_test)\n",
    "        # YOUR CODE HERE\n",
    "        #raise NotImplementedError()\n",
    "\n",
    "        train_scores.append(train_score)\n",
    "        test_scores.append(test_score)\n",
    "        \n",
    "        print('Gamma: ',gamma)\n",
    "        print('Score: ',test_score)\n",
    "        print('accuracy: ',accuracy_score(y_test,predictY),'\\n')\n",
    "    # averages for current gamma\n",
    "    avtrainscores[idx] = statistics.mean(train_scores)\n",
    "    avtestscores[idx] = statistics.mean(test_scores)\n",
    "    \n",
    "plt.plot(gammas, avtrainscores, 'r', label=\"Average training score\")\n",
    "plt.plot(gammas, avtestscores, 'b')\n",
    "plt.show()\n",
    "best_gamma = gammas[np.argmax(avtestscores)]\n",
    "print(\"Gamma with highest test score\", best_gamma)"
   ]
  },
  {
   "cell_type": "code",
   "execution_count": 11,
   "metadata": {
    "deletable": false,
    "editable": false,
    "nbgrader": {
     "cell_type": "code",
     "checksum": "17f3dcefd45a0555ece2c35948ebb2ee",
     "grade": true,
     "grade_id": "cell-a2d3f88adfd303a2",
     "locked": true,
     "points": 12,
     "schema_version": 3,
     "solution": false,
     "task": false
    }
   },
   "outputs": [
    {
     "ename": "AssertionError",
     "evalue": "\nArrays are not almost equal to 1 decimals\n ACTUAL: 0.15\n DESIRED: 0.5",
     "output_type": "error",
     "traceback": [
      "\u001b[1;31m---------------------------------------------------------------------------\u001b[0m",
      "\u001b[1;31mAssertionError\u001b[0m                            Traceback (most recent call last)",
      "\u001b[1;32m<ipython-input-11-bacd75c38976>\u001b[0m in \u001b[0;36m<module>\u001b[1;34m\u001b[0m\n\u001b[1;32m----> 1\u001b[1;33m \u001b[0mnp\u001b[0m\u001b[1;33m.\u001b[0m\u001b[0mtesting\u001b[0m\u001b[1;33m.\u001b[0m\u001b[0massert_almost_equal\u001b[0m\u001b[1;33m(\u001b[0m\u001b[0mbest_gamma\u001b[0m\u001b[1;33m,\u001b[0m \u001b[1;36m0.5\u001b[0m\u001b[1;33m,\u001b[0m \u001b[0mdecimal\u001b[0m\u001b[1;33m=\u001b[0m\u001b[1;36m1\u001b[0m\u001b[1;33m)\u001b[0m\u001b[1;33m\u001b[0m\u001b[1;33m\u001b[0m\u001b[0m\n\u001b[0m",
      "\u001b[1;32m~\\Anaconda3\\envs\\MachineLearning\\lib\\site-packages\\numpy\\testing\\_private\\utils.py\u001b[0m in \u001b[0;36massert_almost_equal\u001b[1;34m(actual, desired, decimal, err_msg, verbose)\u001b[0m\n\u001b[0;32m    599\u001b[0m         \u001b[1;32mpass\u001b[0m\u001b[1;33m\u001b[0m\u001b[1;33m\u001b[0m\u001b[0m\n\u001b[0;32m    600\u001b[0m     \u001b[1;32mif\u001b[0m \u001b[0mabs\u001b[0m\u001b[1;33m(\u001b[0m\u001b[0mdesired\u001b[0m \u001b[1;33m-\u001b[0m \u001b[0mactual\u001b[0m\u001b[1;33m)\u001b[0m \u001b[1;33m>=\u001b[0m \u001b[1;36m1.5\u001b[0m \u001b[1;33m*\u001b[0m \u001b[1;36m10.0\u001b[0m\u001b[1;33m**\u001b[0m\u001b[1;33m(\u001b[0m\u001b[1;33m-\u001b[0m\u001b[0mdecimal\u001b[0m\u001b[1;33m)\u001b[0m\u001b[1;33m:\u001b[0m\u001b[1;33m\u001b[0m\u001b[1;33m\u001b[0m\u001b[0m\n\u001b[1;32m--> 601\u001b[1;33m         \u001b[1;32mraise\u001b[0m \u001b[0mAssertionError\u001b[0m\u001b[1;33m(\u001b[0m\u001b[0m_build_err_msg\u001b[0m\u001b[1;33m(\u001b[0m\u001b[1;33m)\u001b[0m\u001b[1;33m)\u001b[0m\u001b[1;33m\u001b[0m\u001b[1;33m\u001b[0m\u001b[0m\n\u001b[0m\u001b[0;32m    602\u001b[0m \u001b[1;33m\u001b[0m\u001b[0m\n\u001b[0;32m    603\u001b[0m \u001b[1;33m\u001b[0m\u001b[0m\n",
      "\u001b[1;31mAssertionError\u001b[0m: \nArrays are not almost equal to 1 decimals\n ACTUAL: 0.15\n DESIRED: 0.5"
     ]
    }
   ],
   "source": [
    "np.testing.assert_almost_equal(best_gamma, 0.5, decimal=1)"
   ]
  },
  {
   "cell_type": "markdown",
   "metadata": {},
   "source": [
    "Let's plot the decision area. Try out different gammas to get more intuition on how it affects the decision boundary."
   ]
  },
  {
   "cell_type": "code",
   "execution_count": 12,
   "metadata": {},
   "outputs": [
    {
     "name": "stdout",
     "output_type": "stream",
     "text": [
      "\n",
      "GAMMA:  0.1\n"
     ]
    },
    {
     "data": {
      "image/png": "[encoded data removed]",
      "text/plain": [
       "<Figure size 432x288 with 1 Axes>"
      ]
     },
     "metadata": {
      "needs_background": "light"
     },
     "output_type": "display_data"
    },
    {
     "name": "stdout",
     "output_type": "stream",
     "text": [
      "\n",
      "GAMMA:  0.15\n"
     ]
    },
    {
     "data": {
      "image/png": "[encoded data removed]",
      "text/plain": [
       "<Figure size 432x288 with 1 Axes>"
      ]
     },
     "metadata": {
      "needs_background": "light"
     },
     "output_type": "display_data"
    },
    {
     "name": "stdout",
     "output_type": "stream",
     "text": [
      "\n",
      "GAMMA:  0.19\n"
     ]
    },
    {
     "data": {
      "image/png": "[encoded data removed]",
      "text/plain": [
       "<Figure size 432x288 with 1 Axes>"
      ]
     },
     "metadata": {
      "needs_background": "light"
     },
     "output_type": "display_data"
    },
    {
     "name": "stdout",
     "output_type": "stream",
     "text": [
      "\n",
      "GAMMA:  0.2\n"
     ]
    },
    {
     "data": {
      "image/png": "[encoded data removed]",
      "text/plain": [
       "<Figure size 432x288 with 1 Axes>"
      ]
     },
     "metadata": {
      "needs_background": "light"
     },
     "output_type": "display_data"
    },
    {
     "name": "stdout",
     "output_type": "stream",
     "text": [
      "\n",
      "GAMMA:  0.3\n"
     ]
    },
    {
     "data": {
      "image/png": "[encoded data removed]",
      "text/plain": [
       "<Figure size 432x288 with 1 Axes>"
      ]
     },
     "metadata": {
      "needs_background": "light"
     },
     "output_type": "display_data"
    },
    {
     "name": "stdout",
     "output_type": "stream",
     "text": [
      "\n",
      "GAMMA:  0.4\n"
     ]
    },
    {
     "data": {
      "image/png": "[encoded data removed]",
      "text/plain": [
       "<Figure size 432x288 with 1 Axes>"
      ]
     },
     "metadata": {
      "needs_background": "light"
     },
     "output_type": "display_data"
    },
    {
     "name": "stdout",
     "output_type": "stream",
     "text": [
      "\n",
      "GAMMA:  0.5\n"
     ]
    },
    {
     "data": {
      "image/png": "[encoded data removed]",
      "text/plain": [
       "<Figure size 432x288 with 1 Axes>"
      ]
     },
     "metadata": {
      "needs_background": "light"
     },
     "output_type": "display_data"
    },
    {
     "name": "stdout",
     "output_type": "stream",
     "text": [
      "\n",
      "GAMMA:  0.09\n"
     ]
    },
    {
     "data": {
      "image/png": "[encoded data removed]",
      "text/plain": [
       "<Figure size 432x288 with 1 Axes>"
      ]
     },
     "metadata": {
      "needs_background": "light"
     },
     "output_type": "display_data"
    }
   ],
   "source": [
    "gamL=[0.1,best_gamma,0.19,0.2,0.3,0.4,0.5,0.09]\n",
    "def plotGrph(gammaList):\n",
    "    for i in range (len(gammaList)): \n",
    "        model = SVC(gamma=gammaList[i])\n",
    "        model.fit(x_train,y_train)\n",
    "\n",
    "        x1s = np.linspace(-2.5,2.5,y.shape[0])\n",
    "        x2s = np.linspace(-2.5,2.5,y.shape[0])\n",
    "        xs = cartesian((x1s,x2s))\n",
    "\n",
    "        x_plot = cartesian((x1s,x2s))\n",
    "\n",
    "        cfs = model.predict(xs)\n",
    "\n",
    "        #print(xs)\n",
    "        #print(x)\n",
    "        \n",
    "        print('\\nGAMMA: ',gammaList[i])\n",
    "        plt.plot(scaled_x[y == -1][:,0], scaled_x[y == -1][:,1], 'ro')\n",
    "        plt.plot(scaled_x[y == 1][:,0], scaled_x[y == 1][:,1], 'bo')\n",
    "        plt.plot(xs[cfs==-1][:,0],xs[cfs==-1][:,1],'r+',alpha=0.3)\n",
    "        plt.plot(xs[cfs==1][:,0],xs[cfs==1][:,1],'b+',alpha=0.3)\n",
    "        plt.show()\n",
    "        \n",
    "plotGrph(gamL)"
   ]
  },
  {
   "cell_type": "code",
   "execution_count": null,
   "metadata": {},
   "outputs": [],
   "source": []
  },
  {
   "cell_type": "code",
   "execution_count": null,
   "metadata": {},
   "outputs": [],
   "source": []
  }
 ],
 "metadata": {
  "kernelspec": {
   "display_name": "Python 3",
   "language": "python",
   "name": "python3"
  },
  "language_info": {
   "codemirror_mode": {
    "name": "ipython",
    "version": 3
   },
   "file_extension": ".py",
   "mimetype": "text/x-python",
   "name": "python",
   "nbconvert_exporter": "python",
   "pygments_lexer": "ipython3",
   "version": "3.7.6"
  }
 },
 "nbformat": 4,
 "nbformat_minor": 2
}
