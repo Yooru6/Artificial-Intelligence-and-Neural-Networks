{
 "cells": [
  {
   "cell_type": "markdown",
   "metadata": {
    "deletable": false,
    "editable": false,
    "nbgrader": {
     "cell_type": "markdown",
     "checksum": "e5ba5779c9938c1a406574cb4392fe00",
     "grade": false,
     "grade_id": "cell-9be32c3a22d51f62",
     "locked": true,
     "schema_version": 3,
     "solution": false,
     "task": false
    }
   },
   "source": [
    "### Exercise 5: Clustering"
   ]
  },
  {
   "cell_type": "markdown",
   "metadata": {},
   "source": [
    "Please write your name and student id here\n",
    "Joonas Lehikoinen 1607956"
   ]
  },
  {
   "cell_type": "code",
   "execution_count": 94,
   "metadata": {},
   "outputs": [],
   "source": [
    "import numpy as np\n",
    "from numpy import genfromtxt\n",
    "import matplotlib.pyplot as plt\n",
    "from sklearn.preprocessing import StandardScaler\n",
    "from sklearn.model_selection import train_test_split\n",
    "from sklearn.decomposition import PCA\n",
    "from sklearn.svm import SVC\n",
    "from sklearn.svm import LinearSVC\n",
    "from sklearn.linear_model import LogisticRegression\n",
    "from sklearn.cluster import KMeans\n",
    "from scipy.stats import norm\n",
    "import math\n",
    "from sklearn.mixture import GaussianMixture\n",
    "from sklearn.linear_model import LinearRegression\n",
    "from scipy.stats import multivariate_normal\n",
    "from sklearn.discriminant_analysis import LinearDiscriminantAnalysis\n",
    "import pandas as pd"
   ]
  },
  {
   "cell_type": "markdown",
   "metadata": {},
   "source": [
    "Read in the dataset in exercise05.csv"
   ]
  },
  {
   "cell_type": "code",
   "execution_count": 183,
   "metadata": {
    "deletable": false,
    "nbgrader": {
     "cell_type": "code",
     "checksum": "ba38e6c28be33e3a97380c224e425498",
     "grade": false,
     "grade_id": "cell-69ef15d7d8c724d7",
     "locked": false,
     "schema_version": 3,
     "solution": true,
     "task": false
    }
   },
   "outputs": [],
   "source": [
    "# data = ...\n",
    "# YOUR CODE HERE\n",
    "data_pre=pd.read_csv('exercise05.csv',sep=',',index_col=None)\n",
    "colnames=data_pre.columns.get_values()\n",
    "data=data_pre.values\n",
    "#raise NotImplementedError()"
   ]
  },
  {
   "cell_type": "code",
   "execution_count": 184,
   "metadata": {
    "deletable": false,
    "editable": false,
    "nbgrader": {
     "cell_type": "code",
     "checksum": "41d3828d8b976339eb1b57a0d003ebcb",
     "grade": true,
     "grade_id": "cell-afbe3c9a43536b5e",
     "locked": true,
     "points": 1,
     "schema_version": 3,
     "solution": false,
     "task": false
    }
   },
   "outputs": [],
   "source": [
    "assert(data.shape == (51,5) or data.shape == (50,5))"
   ]
  },
  {
   "cell_type": "code",
   "execution_count": 185,
   "metadata": {
    "deletable": false,
    "nbgrader": {
     "cell_type": "code",
     "checksum": "b012067efebe7e2df98042d3e2f1d4d1",
     "grade": false,
     "grade_id": "cell-9444d8ce33604abd",
     "locked": false,
     "schema_version": 3,
     "solution": true,
     "task": false
    }
   },
   "outputs": [
    {
     "name": "stderr",
     "output_type": "stream",
     "text": [
      "C:\\Users\\Acer\\Anaconda3\\envs\\Machine Learning\\lib\\site-packages\\sklearn\\utils\\validation.py:595: DataConversionWarning: Data with input dtype int64 was converted to float64 by StandardScaler.\n",
      "  warnings.warn(msg, DataConversionWarning)\n",
      "C:\\Users\\Acer\\Anaconda3\\envs\\Machine Learning\\lib\\site-packages\\sklearn\\utils\\validation.py:595: DataConversionWarning: Data with input dtype int64 was converted to float64 by StandardScaler.\n",
      "  warnings.warn(msg, DataConversionWarning)\n"
     ]
    }
   ],
   "source": [
    "# assign to x the data excluding class info (last column) that gets assigned to y\n",
    "# scale x data (assign scaler object to variable scaler) and assign to scaled_x\n",
    "# YOUR CODE HERE\n",
    "x=data[:,:4]\n",
    "y=data[:,4]\n",
    "\n",
    "scaler = StandardScaler()\n",
    "scaled_x=scaler.fit_transform(x)\n",
    "\n",
    "#raise NotImplementedError()"
   ]
  },
  {
   "cell_type": "code",
   "execution_count": 186,
   "metadata": {
    "deletable": false,
    "editable": false,
    "nbgrader": {
     "cell_type": "code",
     "checksum": "8d6bf5c97881a6c10e28cbd45d47e65c",
     "grade": true,
     "grade_id": "cell-890bacfb6f07417f",
     "locked": true,
     "points": 1,
     "schema_version": 3,
     "solution": false,
     "task": false
    }
   },
   "outputs": [],
   "source": [
    "assert(x.shape == (51,4))\n",
    "assert(y.shape[0] == 51)"
   ]
  },
  {
   "cell_type": "markdown",
   "metadata": {},
   "source": [
    "Perform PCA for scaled_x with a n_components parameter that lets you plot the explained variance for components."
   ]
  },
  {
   "cell_type": "code",
   "execution_count": 187,
   "metadata": {
    "deletable": false,
    "nbgrader": {
     "cell_type": "code",
     "checksum": "918c3f108ec47d925b6f708b2f42f08e",
     "grade": false,
     "grade_id": "cell-320b4ea26d427a76",
     "locked": false,
     "schema_version": 3,
     "solution": true,
     "task": false
    }
   },
   "outputs": [
    {
     "data": {
      "image/png": "[encoded data removed]",
      "text/plain": [
       "<Figure size 432x288 with 1 Axes>"
      ]
     },
     "metadata": {
      "needs_background": "light"
     },
     "output_type": "display_data"
    }
   ],
   "source": [
    "# YOUR CODE HERE\n",
    "x_df=data_pre.drop(['M/F'],axis=1)\n",
    "#print(x_df)\n",
    "#scaled_x=(x_df.values-x_df.values.mean())/x_df.values.std()\n",
    "#print(scaled_x)\n",
    "#raise NotImplementedError()\n",
    "\n",
    "from sklearn.decomposition import PCA\n",
    "pca = PCA(n_components=4)\n",
    "principalComponents = pca.fit_transform(scaled_x)\n",
    "\n",
    "plt.plot(range(1,scaled_x.shape[1]+1), pca.explained_variance_ratio_, \"bo\")\n",
    "plt.show()"
   ]
  },
  {
   "cell_type": "code",
   "execution_count": 188,
   "metadata": {
    "deletable": false,
    "editable": false,
    "nbgrader": {
     "cell_type": "code",
     "checksum": "3d331ed4b6a15ee20b19516209111011",
     "grade": true,
     "grade_id": "cell-6fe615468ad7300f",
     "locked": true,
     "points": 1,
     "schema_version": 3,
     "solution": false,
     "task": false
    }
   },
   "outputs": [],
   "source": [
    "np.testing.assert_almost_equal(np.sum(pca.explained_variance_ratio_), 1.0, decimal=2)\n",
    "np.testing.assert_almost_equal(np.sum(pca.explained_variance_ratio_[0:2]), 0.69, decimal=2)"
   ]
  },
  {
   "cell_type": "markdown",
   "metadata": {},
   "source": [
    "Despite the fact that we could probably drop 1-2 dimensions, we don't do it this time; we'd like to maintain interpretability of the results (note that pca maps the features to new space where coordinates are linear combinations of the original ones - it can be hard to understand). The mapping is available in attribute components_, take a look at that if you are interested.\n"
   ]
  },
  {
   "cell_type": "markdown",
   "metadata": {},
   "source": [
    "#### KMeans clustering\n",
    "\n",
    "Let's cluster the data with KMeans."
   ]
  },
  {
   "cell_type": "code",
   "execution_count": 189,
   "metadata": {
    "deletable": false,
    "nbgrader": {
     "cell_type": "code",
     "checksum": "d3ba488d99d341664f51315536a5ea47",
     "grade": false,
     "grade_id": "cell-10048fd3ed865ae6",
     "locked": false,
     "schema_version": 3,
     "solution": true,
     "task": false
    }
   },
   "outputs": [],
   "source": [
    "# YOUR CODE HERE\n",
    "#raise NotImplementedError()\n",
    "\n",
    "n=2\n",
    "\n",
    "#Kmeans\n",
    "clf=KMeans(n_clusters=n,n_init=100)\n",
    "kmeans=clf.fit(scaled_x)\n",
    "pred=kmeans.predict(scaled_x)\n",
    "\n",
    "#centroids\n",
    "centroids =scaler.inverse_transform( kmeans.cluster_centers_)\n",
    "\n",
    "#add clusters to original df\n",
    "data_pre['Cluster'] = pd.DataFrame(pred, index=data_pre.index)"
   ]
  },
  {
   "cell_type": "code",
   "execution_count": 167,
   "metadata": {},
   "outputs": [
    {
     "name": "stdout",
     "output_type": "stream",
     "text": [
      "[2680.45454545  248.40909091  158.68181818   69.68181818]\n",
      "[3097.82758621  154.10344828  174.82758621   78.51724138]\n",
      "Salary            3041.12\n",
      "Housecare time     148.08\n",
      "Height             175.76\n",
      "Weight              79.20\n",
      "M/F                  1.00\n",
      "Cluster              1.00\n",
      "dtype: float64\n",
      "Salary            2799.192308\n",
      "Housecare time     239.692308\n",
      "Height             160.269231\n",
      "Weight              70.384615\n",
      "M/F                  0.000000\n",
      "Cluster              0.153846\n",
      "dtype: float64\n"
     ]
    }
   ],
   "source": [
    "def FilterByColumnValue(data, columnName, valuelist):\n",
    "    filtered=data.loc[data[columnName].isin(valuelist)]\n",
    "    return filtered\n",
    "\n",
    "print(np.mean(scaler.inverse_transform(scaled_x[kmeans.labels_ == 0]),axis=0))\n",
    "print(np.mean(scaler.inverse_transform(scaled_x[kmeans.labels_ == 1]),axis=0))\n",
    "\n",
    "print(FilterByColumnValue(data_pre,\"M/F\",['1']).mean())\n",
    "print(FilterByColumnValue(data_pre,\"M/F\",['0']).mean())\n",
    "#FilterByColumnValue(data_pre,\"M/F\",['0']).describe()\n"
   ]
  },
  {
   "cell_type": "code",
   "execution_count": 172,
   "metadata": {},
   "outputs": [
    {
     "data": {
      "text/html": [
       "<div>\n",
       "<style scoped>\n",
       "    .dataframe tbody tr th:only-of-type {\n",
       "        vertical-align: middle;\n",
       "    }\n",
       "\n",
       "    .dataframe tbody tr th {\n",
       "        vertical-align: top;\n",
       "    }\n",
       "\n",
       "    .dataframe thead th {\n",
       "        text-align: right;\n",
       "    }\n",
       "</style>\n",
       "<table border=\"1\" class=\"dataframe\">\n",
       "  <thead>\n",
       "    <tr style=\"text-align: right;\">\n",
       "      <th></th>\n",
       "      <th>Salary</th>\n",
       "      <th>Housecare time</th>\n",
       "      <th>Height</th>\n",
       "      <th>Weight</th>\n",
       "      <th>M/F</th>\n",
       "      <th>Cluster</th>\n",
       "    </tr>\n",
       "  </thead>\n",
       "  <tbody>\n",
       "    <tr>\n",
       "      <th>12</th>\n",
       "      <td>3047</td>\n",
       "      <td>232</td>\n",
       "      <td>178</td>\n",
       "      <td>73</td>\n",
       "      <td>0</td>\n",
       "      <td>1</td>\n",
       "    </tr>\n",
       "    <tr>\n",
       "      <th>13</th>\n",
       "      <td>3609</td>\n",
       "      <td>145</td>\n",
       "      <td>162</td>\n",
       "      <td>85</td>\n",
       "      <td>0</td>\n",
       "      <td>1</td>\n",
       "    </tr>\n",
       "    <tr>\n",
       "      <th>20</th>\n",
       "      <td>4145</td>\n",
       "      <td>202</td>\n",
       "      <td>169</td>\n",
       "      <td>60</td>\n",
       "      <td>0</td>\n",
       "      <td>1</td>\n",
       "    </tr>\n",
       "    <tr>\n",
       "      <th>28</th>\n",
       "      <td>3008</td>\n",
       "      <td>188</td>\n",
       "      <td>167</td>\n",
       "      <td>79</td>\n",
       "      <td>0</td>\n",
       "      <td>1</td>\n",
       "    </tr>\n",
       "  </tbody>\n",
       "</table>\n",
       "</div>"
      ],
      "text/plain": [
       "    Salary  Housecare time  Height  Weight  M/F  Cluster\n",
       "12    3047             232     178      73    0        1\n",
       "13    3609             145     162      85    0        1\n",
       "20    4145             202     169      60    0        1\n",
       "28    3008             188     167      79    0        1"
      ]
     },
     "execution_count": 172,
     "metadata": {},
     "output_type": "execute_result"
    }
   ],
   "source": [
    "FilterByColumnValue(FilterByColumnValue(data_pre,\"M/F\",[0]),\"Cluster\",['1'])#naiset miesten clusterista"
   ]
  },
  {
   "cell_type": "markdown",
   "metadata": {},
   "source": [
    "#### Looking at the results\n",
    "\n",
    "Please answer in the cell below.\n",
    "\n",
    "1. What is the purpose of scaler.inverse_transform() call? Could you avoid it?\n",
    "2. Which line represents cluster of females? Does it match the label (0 / 1)? Should it match? Why / why not?\n",
    "3. Compare the averages from clustered data with averages calculated from real sample classes. Any noticable differences?"
   ]
  },
  {
   "cell_type": "markdown",
   "metadata": {},
   "source": [
    "1. because we scaled values before clustering, we need inverse scale(*std()+mean()) them if we wanna see real values in clusters. if we just wanna see how many items are in each cluster or visualize cluster results then it might not be neccessary to inverse scale.\n",
    "\n",
    "2. First line(label=0) because of amount of house work. It's not 100% match to the labels because at start we had 26 females and 25 males, but female cluster only have 22 values and rest 29 are in male cluster. 4 females were classified as male.\n",
    "\n",
    "3. Females had more dispersion in averages when compared real and cluster averages. exmpl.(real salary mean= 2799, cluster salary mean=2680)"
   ]
  },
  {
   "cell_type": "markdown",
   "metadata": {},
   "source": [
    "Visualize kmeans results by looking at salary/housecare time and height/weight plots.\n",
    "\n",
    "Which pair in your view gives a better and more truthful separation for the two classes? Please answer in the last cell."
   ]
  },
  {
   "cell_type": "code",
   "execution_count": 173,
   "metadata": {
    "deletable": false,
    "nbgrader": {
     "cell_type": "code",
     "checksum": "4f14d8768d825fc50e7a34727a679c15",
     "grade": false,
     "grade_id": "cell-635713f2fc3c870b",
     "locked": false,
     "schema_version": 3,
     "solution": true,
     "task": false
    }
   },
   "outputs": [
    {
     "data": {
      "image/png": "[encoded data removed]",
      "text/plain": [
       "<Figure size 432x288 with 2 Axes>"
      ]
     },
     "metadata": {
      "needs_background": "light"
     },
     "output_type": "display_data"
    },
    {
     "data": {
      "image/png": "[encoded data removed]",
      "text/plain": [
       "<Figure size 432x288 with 2 Axes>"
      ]
     },
     "metadata": {
      "needs_background": "light"
     },
     "output_type": "display_data"
    }
   ],
   "source": [
    "# YOUR CODE HERE\n",
    "#    raise NotImplementedError()\n",
    "import matplotlib as matplt\n",
    "import matplotlib.pyplot as plt\n",
    "\n",
    "def PlotResults(data,columns,startcolor,startcentroid):\n",
    "    colors =  ['red','LightGreen','DarkBlue','orange','pink','magenta','purple','yellow','cyan','DarkGreen','LightGreen']\n",
    "    ax=data.plot(kind=\"scatter\",x=columns[0], y=columns[1], c = 'Cluster', cmap = matplt.colors.ListedColormap(colors[startcolor:startcolor+2]) )#,figsize=(15,15)\n",
    "    #ax2=data_pre.plot(kind=\"scatter\",x='Height', y='Weight', c = 'Cluster', cmap = matplt.colors.ListedColormap(colors[2:4]) )\n",
    "\n",
    "    ##Initializing grid\n",
    "    major_ticks = np.arange(0, 1000, 50)\n",
    "    minor_ticks = np.arange(0, 1000, 10)\n",
    "\n",
    "    ax.set_xticks(major_ticks)\n",
    "    ax.set_xticks(minor_ticks, minor=True)\n",
    "    ax.set_yticks(major_ticks)\n",
    "    ax.set_yticks(minor_ticks, minor=True)\n",
    "\n",
    "    # And a corresponding grid\n",
    "    ax.grid(which='both')\n",
    "\n",
    "    # Or if you want different settings for the grids:\n",
    "    ax.grid(which='minor', alpha=0.2)#transparency\n",
    "    ax.grid(which='major', alpha=0.5)\n",
    "\n",
    "    plt.grid(True)\n",
    "    plt.ylabel(\"Y\", fontsize=25)\n",
    "    plt.xlabel(\"X\", fontsize=25)\n",
    "\n",
    "    # Center points of clusters\n",
    "    plt.scatter(centroids[:,startcentroid], centroids[:,(startcentroid+1)], marker=\"X\", color='black',s=250*1)\n",
    "                # Plot 2\n",
    "\n",
    "    plt.show()\n",
    "    \n",
    "PlotResults(data_pre,['Salary','Housecare time'],0,0)\n",
    "PlotResults(data_pre,['Height','Weight'],2,2)"
   ]
  },
  {
   "cell_type": "markdown",
   "metadata": {},
   "source": [
    "### GMM\n",
    "\n",
    "Perform soft (Gaussian) clustering of the data. Compare the per class cluster means with means from sample data."
   ]
  },
  {
   "cell_type": "code",
   "execution_count": 182,
   "metadata": {
    "deletable": false,
    "nbgrader": {
     "cell_type": "code",
     "checksum": "4c18b2e3e3d830d86bd22f6fec06e6f9",
     "grade": false,
     "grade_id": "cell-0a6bbb1b6a347001",
     "locked": false,
     "schema_version": 3,
     "solution": true,
     "task": false
    }
   },
   "outputs": [
    {
     "name": "stdout",
     "output_type": "stream",
     "text": [
      "Gaussian: \n",
      "[[3088.91563743  160.08502302  174.4220663    77.42471369]\n",
      " [2654.86846058  248.09421295  157.78539928   70.52883373]]\n",
      "KMeans: \n",
      "[2680.45454545  248.40909091  158.68181818   69.68181818]\n",
      "[3097.82758621  154.10344828  174.82758621   78.51724138]\n",
      "\n",
      "Original data means:\n",
      "Salary            3041.12\n",
      "Housecare time     148.08\n",
      "Height             175.76\n",
      "Weight              79.20\n",
      "dtype: float64\n",
      "Salary            2799.192308\n",
      "Housecare time     239.692308\n",
      "Height             160.269231\n",
      "Weight              70.384615\n",
      "dtype: float64\n"
     ]
    },
    {
     "data": {
      "text/html": [
       "<div>\n",
       "<style scoped>\n",
       "    .dataframe tbody tr th:only-of-type {\n",
       "        vertical-align: middle;\n",
       "    }\n",
       "\n",
       "    .dataframe tbody tr th {\n",
       "        vertical-align: top;\n",
       "    }\n",
       "\n",
       "    .dataframe thead th {\n",
       "        text-align: right;\n",
       "    }\n",
       "</style>\n",
       "<table border=\"1\" class=\"dataframe\">\n",
       "  <thead>\n",
       "    <tr style=\"text-align: right;\">\n",
       "      <th></th>\n",
       "      <th>Salary</th>\n",
       "      <th>Housecare time</th>\n",
       "      <th>Height</th>\n",
       "      <th>Weight</th>\n",
       "      <th>M/F</th>\n",
       "      <th>Cluster</th>\n",
       "      <th>Gaussian Cluster</th>\n",
       "    </tr>\n",
       "  </thead>\n",
       "  <tbody>\n",
       "    <tr>\n",
       "      <th>12</th>\n",
       "      <td>3047</td>\n",
       "      <td>232</td>\n",
       "      <td>178</td>\n",
       "      <td>73</td>\n",
       "      <td>0</td>\n",
       "      <td>1</td>\n",
       "      <td>1</td>\n",
       "    </tr>\n",
       "    <tr>\n",
       "      <th>13</th>\n",
       "      <td>3609</td>\n",
       "      <td>145</td>\n",
       "      <td>162</td>\n",
       "      <td>85</td>\n",
       "      <td>0</td>\n",
       "      <td>1</td>\n",
       "      <td>1</td>\n",
       "    </tr>\n",
       "    <tr>\n",
       "      <th>20</th>\n",
       "      <td>4145</td>\n",
       "      <td>202</td>\n",
       "      <td>169</td>\n",
       "      <td>60</td>\n",
       "      <td>0</td>\n",
       "      <td>1</td>\n",
       "      <td>1</td>\n",
       "    </tr>\n",
       "    <tr>\n",
       "      <th>28</th>\n",
       "      <td>3008</td>\n",
       "      <td>188</td>\n",
       "      <td>167</td>\n",
       "      <td>79</td>\n",
       "      <td>0</td>\n",
       "      <td>1</td>\n",
       "      <td>1</td>\n",
       "    </tr>\n",
       "  </tbody>\n",
       "</table>\n",
       "</div>"
      ],
      "text/plain": [
       "    Salary  Housecare time  Height  Weight  M/F  Cluster  Gaussian Cluster\n",
       "12    3047             232     178      73    0        1                 1\n",
       "13    3609             145     162      85    0        1                 1\n",
       "20    4145             202     169      60    0        1                 1\n",
       "28    3008             188     167      79    0        1                 1"
      ]
     },
     "execution_count": 182,
     "metadata": {},
     "output_type": "execute_result"
    }
   ],
   "source": [
    "# YOUR CODE HERE\n",
    "#raise NotImplementedError()\n",
    "\n",
    "gmm = GaussianMixture(n_components=2)\n",
    "gmm.fit(scaled_x)\n",
    "\n",
    "gpred=gmm.predict(scaled_x)\n",
    "data_pre['Gaussian Cluster'] = pd.DataFrame(pred, index=data_pre.index)\n",
    "\n",
    "print('Gaussian: ')\n",
    "print(scaler.inverse_transform(gmm.means_))\n",
    "print('KMeans: ')\n",
    "print(np.mean(scaler.inverse_transform(scaled_x[kmeans.labels_ == 0]),axis=0))\n",
    "print(np.mean(scaler.inverse_transform(scaled_x[kmeans.labels_ == 1]),axis=0))\n",
    "\n",
    "print('\\nOriginal data means:')\n",
    "print(FilterByColumnValue(data_pre,\"M/F\",['1']).iloc[:,:4].mean())\n",
    "print(FilterByColumnValue(data_pre,\"M/F\",['0']).iloc[:,:4].mean())\n",
    "\n",
    "FilterByColumnValue(FilterByColumnValue(data_pre,\"M/F\",[0]),\"Gaussian Cluster\",['1'])"
   ]
  },
  {
   "cell_type": "markdown",
   "metadata": {},
   "source": [
    "Cluster question:\n",
    "Which pair in your view gives a better and more truthful separation for the two classes? Please answer in the last cell.:<br>\n",
    "Height and weight is better because it has less leak to other cluster.\n",
    "\n",
    "Compare gaussian means:\n",
    "in gaussian means female salary is 100 below from sample data means -> same phenomenom as in knn.\n",
    "gaussian means are almost the same as in Kmeans. that is why it miss classified same females to male cluster as Knn"
   ]
  }
 ],
 "metadata": {
  "kernelspec": {
   "display_name": "Python 3",
   "language": "python",
   "name": "python3"
  },
  "language_info": {
   "codemirror_mode": {
    "name": "ipython",
    "version": 3
   },
   "file_extension": ".py",
   "mimetype": "text/x-python",
   "name": "python",
   "nbconvert_exporter": "python",
   "pygments_lexer": "ipython3",
   "version": "3.6.7"
  }
 },
 "nbformat": 4,
 "nbformat_minor": 2
}
