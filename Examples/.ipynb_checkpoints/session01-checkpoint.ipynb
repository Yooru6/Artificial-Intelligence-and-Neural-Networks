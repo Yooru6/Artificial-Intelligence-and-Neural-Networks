{
 "cells": [
  {
   "cell_type": "markdown",
   "metadata": {},
   "source": [
    "# Linear regression\n",
    "\n",
    "Import needed libraries:\n",
    "- numpy: multidimensional array manipulation, see https://numpy.org/\n",
    "- matplotlib.pyplot: produce diagrams, see https://matplotlib.org/3.1.1/index.html\n",
    "- sklearn libraries and functions\n",
    "\n",
    "Note that libraries can be given nice names to save typing; all numpy functions are available with np. prefix."
   ]
  },
  {
   "cell_type": "code",
   "execution_count": 28,
   "metadata": {},
   "outputs": [],
   "source": [
    "import numpy as np\n",
    "import matplotlib.pyplot as plt\n",
    "from sklearn import preprocessing\n",
    "from sklearn.preprocessing import PolynomialFeatures\n",
    "from sklearn import linear_model\n",
    "from sklearn.model_selection import train_test_split\n",
    "from sklearn.datasets import fetch_california_housing"
   ]
  },
  {
   "cell_type": "markdown",
   "metadata": {},
   "source": [
    "Data is hardcoded in this example. See numpy genfromtext() for reading file; pandas library for more\n",
    "general way of reading wide variety of formats.\n",
    "\n",
    "Note that numpy array x is reshaped into dimensions (-1,1); sklearn generally expects the input data in \n",
    "format (n_samples, n_features) and -1 as dimension in numpy means that the actual dimension is calculated \n",
    "based on other dimensions.\n",
    "Reshaping is usually not needed if the data has more than one dimension. See later code in this notebook."
   ]
  },
  {
   "cell_type": "code",
   "execution_count": 29,
   "metadata": {},
   "outputs": [],
   "source": [
    "x = np.array([190,155,167,188,160,176,177,159,195,167,170,169,188,181,162,173,172,177,177,178,172,171,166,180,179,170,171,185,192]).reshape(-1,1)\n",
    "y = np.array([104,52,55,85,71,82,83,47,80,81,88,88,112,100,55,70,81,64,75,78,70,69,72,80,79,68,67,84,95])"
   ]
  },
  {
   "cell_type": "markdown",
   "metadata": {},
   "source": [
    "Print out basic statistics."
   ]
  },
  {
   "cell_type": "code",
   "execution_count": 30,
   "metadata": {},
   "outputs": [
    {
     "name": "stdout",
     "output_type": "stream",
     "text": [
      "x and y shape (29, 1) (29,)\n",
      "x mean and std 174.72413793103448 9.909579314374126\n",
      "y mean and std 77.06896551724138 14.794992243376457\n",
      "x min and max 155 195\n",
      "y min and max 47 112\n"
     ]
    }
   ],
   "source": [
    "print(\"x and y shape\", x.shape, y.shape)\n",
    "print(\"x mean and std\", x.mean(), x.std())\n",
    "print(\"y mean and std\", y.mean(), y.std())\n",
    "print(\"x min and max\", x.min(), x.max())\n",
    "print(\"y min and max\", y.min(), y.max())"
   ]
  },
  {
   "cell_type": "markdown",
   "metadata": {},
   "source": [
    "# Plotting\n",
    "\n",
    "Let's plot histograms of x and y. 2nd parameter of pyplot hist() function gives the amount of bins in the histogram."
   ]
  },
  {
   "cell_type": "code",
   "execution_count": 31,
   "metadata": {},
   "outputs": [
    {
     "data": {
      "image/png": "[encoded data removed]",
      "text/plain": [
       "<Figure size 432x288 with 1 Axes>"
      ]
     },
     "metadata": {
      "needs_background": "light"
     },
     "output_type": "display_data"
    },
    {
     "data": {
      "image/png": "[encoded data removed]",
      "text/plain": [
       "<Figure size 432x288 with 1 Axes>"
      ]
     },
     "metadata": {
      "needs_background": "light"
     },
     "output_type": "display_data"
    }
   ],
   "source": [
    "xn, xbins, xpatches = plt.hist(x, 10, facecolor='g')\n",
    "plt.show()\n",
    "yn, ybins, ypatches = plt.hist(y, 10, facecolor='r')\n",
    "plt.show()"
   ]
  },
  {
   "cell_type": "markdown",
   "metadata": {},
   "source": [
    "Let's plot x and y in a scatter diagram."
   ]
  },
  {
   "cell_type": "code",
   "execution_count": 32,
   "metadata": {},
   "outputs": [
    {
     "data": {
      "image/png": "[encoded data removed]",
      "text/plain": [
       "<Figure size 432x288 with 1 Axes>"
      ]
     },
     "metadata": {
      "needs_background": "light"
     },
     "output_type": "display_data"
    }
   ],
   "source": [
    "plt.plot(x, y, 'ro')\n",
    "plt.show()"
   ]
  },
  {
   "cell_type": "markdown",
   "metadata": {},
   "source": [
    "# Linear model\n",
    "\n",
    "Let's try to find a model that fits the data. It looks like a linear model (y = a * x + b) could be a reasonable\n",
    "first attempt."
   ]
  },
  {
   "cell_type": "code",
   "execution_count": 33,
   "metadata": {},
   "outputs": [
    {
     "data": {
      "text/plain": [
       "LinearRegression(copy_X=True, fit_intercept=True, n_jobs=None, normalize=False)"
      ]
     },
     "execution_count": 33,
     "metadata": {},
     "output_type": "execute_result"
    }
   ],
   "source": [
    "model = linear_model.LinearRegression()\n",
    "model.fit(x, y)"
   ]
  },
  {
   "cell_type": "markdown",
   "metadata": {},
   "source": [
    "How to evaluate the model? We could take a look at cost function value (the mean squared error), or R^2 (ratio of\n",
    "explained variance to the total variance which has range from negative (not good) to 1 (perfect)). mse, however, depends on scaling (later more), and R^2 only indicates how\n",
    "well the model fits to data. We don't have an indication of how good predictions the model might produce. Let's come back to this later! For now, we can be happy about the R^2 score."
   ]
  },
  {
   "cell_type": "code",
   "execution_count": 34,
   "metadata": {},
   "outputs": [
    {
     "name": "stdout",
     "output_type": "stream",
     "text": [
      "mse 101.35780006129451\n",
      "R^2 score 0.5369502094023039\n"
     ]
    }
   ],
   "source": [
    "predictions = model.predict(x)\n",
    "\n",
    "print(\"mse\", np.mean(np.square(y - predictions)))\n",
    "print(\"R^2 score\", model.score(x, y))"
   ]
  },
  {
   "cell_type": "markdown",
   "metadata": {},
   "source": [
    "Let's plot the scatter diagram and the linear regression model line in the same diagram. linspace() gives by default\n",
    "50 values evenly spaced between its arguments - we'll use those to plot the model line by calling model predict()\n",
    "function. predict() returns a numpy array of the same shape as its argument array populated with prediction for each\n",
    "array member. Note that again xs must be reshaped to (-1,1)."
   ]
  },
  {
   "cell_type": "code",
   "execution_count": 8,
   "metadata": {},
   "outputs": [
    {
     "data": {
      "image/png": "[encoded data removed]",
      "text/plain": [
       "<Figure size 432x288 with 1 Axes>"
      ]
     },
     "metadata": {
      "needs_background": "light"
     },
     "output_type": "display_data"
    }
   ],
   "source": [
    "xs = np.linspace(x.min() - 10, x.max() + 10).reshape(-1,1)\n",
    "ys = model.predict(xs)\n",
    "\n",
    "plt.plot(xs, ys, 'b')\n",
    "plt.plot(x, y, 'ro')\n",
    "plt.show()"
   ]
  },
  {
   "cell_type": "markdown",
   "metadata": {},
   "source": [
    "# Split data into training and test sets\n",
    "\n",
    "A more principled way is to take\n",
    "a look at how well the predictions generalize. But to do that, we need to split the data set into training set and \n",
    "test set (test set name is here used in the same way as in sklearn documentation - it corresponds to validation\n",
    "set in the slides). We'll use sklearn function train_test_split() to do that; test_size parameter is the proportion \n",
    "of data that is selected to test set. Note that the split is done in random fashion (as it should).\n",
    "\n",
    "After the split we'll create the model but this time use only training set for fitting the line."
   ]
  },
  {
   "cell_type": "code",
   "execution_count": 9,
   "metadata": {},
   "outputs": [
    {
     "name": "stdout",
     "output_type": "stream",
     "text": [
      "(17, 1) (12, 1) (17,) (12,)\n"
     ]
    }
   ],
   "source": [
    "x_train, x_test, y_train, y_test = train_test_split(x, y, test_size=0.4)\n",
    "\n",
    "print(x_train.shape, x_test.shape, y_train.shape, y_test.shape)"
   ]
  },
  {
   "cell_type": "markdown",
   "metadata": {},
   "source": [
    "Let's plot the training (red) and test (green) sets to see how the data got split."
   ]
  },
  {
   "cell_type": "code",
   "execution_count": 10,
   "metadata": {},
   "outputs": [
    {
     "data": {
      "image/png": "[encoded data removed]",
      "text/plain": [
       "<Figure size 432x288 with 1 Axes>"
      ]
     },
     "metadata": {
      "needs_background": "light"
     },
     "output_type": "display_data"
    }
   ],
   "source": [
    "plt.plot(x_train, y_train, 'ro')\n",
    "plt.plot(x_test, y_test, 'go')\n",
    "plt.show()"
   ]
  },
  {
   "cell_type": "markdown",
   "metadata": {},
   "source": [
    "Create model and plot data as well as model."
   ]
  },
  {
   "cell_type": "code",
   "execution_count": 11,
   "metadata": {},
   "outputs": [
    {
     "data": {
      "image/png": "[encoded data removed]",
      "text/plain": [
       "<Figure size 432x288 with 1 Axes>"
      ]
     },
     "metadata": {
      "needs_background": "light"
     },
     "output_type": "display_data"
    }
   ],
   "source": [
    "model = linear_model.LinearRegression()\n",
    "model.fit(x_train, y_train)\n",
    "\n",
    "xs = np.linspace(x.min() - 10, x.max() + 10).reshape(-1,1)\n",
    "ys = model.predict(xs)\n",
    "\n",
    "plt.plot(xs, ys, 'b')\n",
    "plt.plot(x_train, y_train, 'ro')\n",
    "plt.plot(x_test, y_test, 'go')\n",
    "plt.show()"
   ]
  },
  {
   "cell_type": "code",
   "execution_count": 12,
   "metadata": {},
   "outputs": [
    {
     "name": "stdout",
     "output_type": "stream",
     "text": [
      "mse 128.59221940736325\n",
      "R^2 training score 0.5001130933944875\n",
      "R^2 test score 0.533652011114909\n"
     ]
    }
   ],
   "source": [
    "print(\"mse\", np.mean(np.square(y_test - model.predict(x_test))))\n",
    "print(\"R^2 training score\", model.score(x_train, y_train))\n",
    "print(\"R^2 test score\", model.score(x_test, y_test))"
   ]
  },
  {
   "cell_type": "markdown",
   "metadata": {},
   "source": [
    "# Multidimensional case\n",
    "\n",
    "Linear regression works also with data that has more than one feature. Let's take a look at an example on that and then come back to single feature case.\n",
    "\n",
    "We'll use a California housing dataset that is available in sklearn package."
   ]
  },
  {
   "cell_type": "code",
   "execution_count": 13,
   "metadata": {},
   "outputs": [],
   "source": [
    "ch_x, ch_y = fetch_california_housing(return_X_y = True)"
   ]
  },
  {
   "cell_type": "code",
   "execution_count": 14,
   "metadata": {},
   "outputs": [
    {
     "name": "stdout",
     "output_type": "stream",
     "text": [
      "x and y shapes (20640, 8) (20640,)\n",
      "x mean and std\n",
      "[ 3.87067100e+00  2.86394864e+01  5.42899974e+00  1.09667515e+00\n",
      "  1.42547674e+03  3.07065516e+00  3.56318614e+01 -1.19569704e+02]\n",
      "[1.89977569e+00 1.25852527e+01 2.47411320e+00 4.73899376e-01\n",
      " 1.13243469e+03 1.03857980e+01 2.13590065e+00 2.00348319e+00]\n",
      "y mean and std 2.068558169089147 1.1539282040412253\n",
      "x min and max\n",
      "[   0.4999        1.            0.84615385    0.33333333    3.\n",
      "    0.69230769   32.54       -124.35      ]\n",
      "[ 1.50001000e+01  5.20000000e+01  1.41909091e+02  3.40666667e+01\n",
      "  3.56820000e+04  1.24333333e+03  4.19500000e+01 -1.14310000e+02]\n",
      "y min and max 0.14999 5.00001\n"
     ]
    }
   ],
   "source": [
    "print(\"x and y shapes\", ch_x.shape, ch_y.shape)\n",
    "print(\"x mean and std\")\n",
    "print(ch_x.mean(axis=0))\n",
    "print(ch_x.std(axis=0))\n",
    "print(\"y mean and std\", ch_y.mean(), ch_y.std())\n",
    "print(\"x min and max\")\n",
    "print(ch_x.min(axis=0))\n",
    "print(ch_x.max(axis=0))\n",
    "print(\"y min and max\", ch_y.min(), ch_y.max())"
   ]
  },
  {
   "cell_type": "markdown",
   "metadata": {},
   "source": [
    "We see that different features in the data set have quite different scales. This makes it harder for the parameter search algorithm to optimize the cost function - change rates can be different for different features. To cope with this, let's standardize the input data: center it (mean = 0) and multiply to have standard deviation of 1. Note that this is done for each dimension separately."
   ]
  },
  {
   "cell_type": "code",
   "execution_count": 15,
   "metadata": {},
   "outputs": [
    {
     "name": "stdout",
     "output_type": "stream",
     "text": [
      "scaled x mean and std\n",
      "[ 6.60969987e-17  5.50808322e-18  6.60969987e-17 -1.06030602e-16\n",
      " -1.10161664e-17  3.44255201e-18 -1.07958431e-15 -8.52651283e-15]\n",
      "[1. 1. 1. 1. 1. 1. 1. 1.]\n"
     ]
    }
   ],
   "source": [
    "scaler = preprocessing.StandardScaler().fit(ch_x)\n",
    "scaled_x = scaler.transform(ch_x)\n",
    "print(\"scaled x mean and std\")\n",
    "print(scaled_x.mean(axis=0))\n",
    "print(scaled_x.std(axis=0))"
   ]
  },
  {
   "cell_type": "code",
   "execution_count": 16,
   "metadata": {},
   "outputs": [
    {
     "name": "stdout",
     "output_type": "stream",
     "text": [
      "(14448, 8) (6192, 8) (14448,) (6192,)\n"
     ]
    }
   ],
   "source": [
    "x_train, x_test, y_train, y_test = train_test_split(scaled_x, ch_y, test_size=0.3)\n",
    "print(x_train.shape, x_test.shape, y_train.shape, y_test.shape)"
   ]
  },
  {
   "cell_type": "code",
   "execution_count": 17,
   "metadata": {},
   "outputs": [
    {
     "name": "stdout",
     "output_type": "stream",
     "text": [
      "R^2 score 0.6086518725901477\n",
      "Intercept term 2.069513428033941\n",
      "Coefficients [ 0.82846551  0.1135164  -0.25829861  0.29074912 -0.009535   -0.03773352\n",
      " -0.90241832 -0.86384637]\n"
     ]
    }
   ],
   "source": [
    "model = linear_model.LinearRegression()\n",
    "model.fit(x_train, y_train)\n",
    "\n",
    "print(\"R^2 score\", model.score(x_test, y_test))\n",
    "print(\"Intercept term\", model.intercept_)\n",
    "print(\"Coefficients\", model.coef_)"
   ]
  },
  {
   "cell_type": "markdown",
   "metadata": {},
   "source": [
    "Now we'll go back to one-dimensional case and take a look at fitting something more complicated than a line to the data - a polynomial."
   ]
  },
  {
   "cell_type": "markdown",
   "metadata": {},
   "source": [
    "# Polynomial regression\n",
    "\n",
    "Let's first create some data with a polynomial y = 40 + 8x - x^2. To make the example more real, we'll introduce random normal distributed noise to the y values."
   ]
  },
  {
   "cell_type": "code",
   "execution_count": 18,
   "metadata": {},
   "outputs": [
    {
     "name": "stdout",
     "output_type": "stream",
     "text": [
      "(30,) (30,)\n"
     ]
    },
    {
     "data": {
      "image/png": "[encoded data removed]",
      "text/plain": [
       "<Figure size 432x288 with 1 Axes>"
      ]
     },
     "metadata": {
      "needs_background": "light"
     },
     "output_type": "display_data"
    }
   ],
   "source": [
    "N = 30\n",
    "dev = 2.0\n",
    "x = np.linspace(0.0, 10.0, num=N)\n",
    "y = 40 + 8 * x - 1.0 * np.square(x) + np.random.normal(0, dev * dev, size=N)\n",
    "print(x.shape, y.shape)\n",
    "\n",
    "plt.plot(x, y, 'ro')\n",
    "plt.show()"
   ]
  },
  {
   "cell_type": "markdown",
   "metadata": {},
   "source": [
    "As usual, we'll split the data into training and test sets."
   ]
  },
  {
   "cell_type": "code",
   "execution_count": 19,
   "metadata": {},
   "outputs": [
    {
     "name": "stdout",
     "output_type": "stream",
     "text": [
      "(21,) (9,) (21,) (9,)\n"
     ]
    }
   ],
   "source": [
    "x_train, x_test, y_train, y_test = train_test_split(x, y, test_size=0.3)\n",
    "print(x_train.shape, x_test.shape, y_train.shape, y_test.shape)"
   ]
  },
  {
   "cell_type": "markdown",
   "metadata": {},
   "source": [
    "Now we'll transform the data into degree d polynomial basis by computing for each x(i) terms x(i)^0, x(i)^1 and x(i)^2."
   ]
  },
  {
   "cell_type": "code",
   "execution_count": 20,
   "metadata": {},
   "outputs": [
    {
     "name": "stdout",
     "output_type": "stream",
     "text": [
      "(21, 3)\n",
      "[[  1.           2.06896552   4.28061831]\n",
      " [  1.           8.62068966  74.31629013]\n",
      " [  1.           9.31034483  86.68252081]\n",
      " [  1.           6.55172414  42.92508918]\n",
      " [  1.           1.37931034   1.90249703]\n",
      " [  1.           3.10344828   9.6313912 ]\n",
      " [  1.           4.13793103  17.12247325]\n",
      " [  1.           1.72413793   2.97265161]\n",
      " [  1.           3.79310345  14.38763377]\n",
      " [  1.          10.         100.        ]\n",
      " [  1.           5.86206897  34.36385256]\n",
      " [  1.           0.34482759   0.11890606]\n",
      " [  1.           2.4137931    5.82639715]\n",
      " [  1.           5.51724138  30.43995244]\n",
      " [  1.           6.89655172  47.56242568]\n",
      " [  1.           7.5862069   57.55053508]\n",
      " [  1.           6.20689655  38.5255648 ]\n",
      " [  1.           4.48275862  20.09512485]\n",
      " [  1.           8.27586207  68.48989298]\n",
      " [  1.           7.24137931  52.43757432]\n",
      " [  1.           8.96551724  80.38049941]]\n"
     ]
    }
   ],
   "source": [
    "d = 2\n",
    "poly = PolynomialFeatures(d)\n",
    "x_train_poly = poly.fit_transform(x_train.reshape(-1,1))\n",
    "x_test_poly = poly.fit_transform(x_test.reshape(-1,1))\n",
    "\n",
    "print(x_train_poly.shape)\n",
    "print(x_train_poly)"
   ]
  },
  {
   "cell_type": "code",
   "execution_count": 21,
   "metadata": {},
   "outputs": [
    {
     "data": {
      "text/plain": [
       "LinearRegression(copy_X=True, fit_intercept=True, n_jobs=None, normalize=False)"
      ]
     },
     "execution_count": 21,
     "metadata": {},
     "output_type": "execute_result"
    }
   ],
   "source": [
    "model = linear_model.LinearRegression()\n",
    "model.fit(x_train_poly, y_train)"
   ]
  },
  {
   "cell_type": "code",
   "execution_count": 22,
   "metadata": {},
   "outputs": [
    {
     "data": {
      "image/png": "[encoded data removed]",
      "text/plain": [
       "<Figure size 432x288 with 1 Axes>"
      ]
     },
     "metadata": {
      "needs_background": "light"
     },
     "output_type": "display_data"
    }
   ],
   "source": [
    "xs = np.linspace(0,10) # x values for plotting the model line\n",
    "xs_poly = poly.fit_transform(xs.reshape(-1,1))\n",
    "\n",
    "ys = model.predict(xs_poly) # get y values from predict()\n",
    "\n",
    "plt.plot(x_train, y_train, 'ro') # the samples\n",
    "plt.plot(xs.reshape(-1,1), ys, 'b') # model line\n",
    "plt.show()"
   ]
  },
  {
   "cell_type": "code",
   "execution_count": 23,
   "metadata": {},
   "outputs": [
    {
     "name": "stdout",
     "output_type": "stream",
     "text": [
      "model intercept 40.35572434562774\n",
      "model coefficients [ 0.          7.30988568 -0.93183977]\n",
      "R^2 training 0.8985873037886085\n",
      "R^2 test 0.9159142455861847\n"
     ]
    }
   ],
   "source": [
    "print(\"model intercept\", model.intercept_)\n",
    "print(\"model coefficients\", model.coef_)\n",
    "print(\"R^2 training\", model.score(x_train_poly, y_train))\n",
    "print(\"R^2 test\", model.score(x_test_poly, y_test))"
   ]
  },
  {
   "cell_type": "code",
   "execution_count": 24,
   "metadata": {},
   "outputs": [],
   "source": [
    "def polymodel(x_train, x_test, y_train, y_test, model, d=2):\n",
    "    poly = PolynomialFeatures(d)\n",
    "    x_train_poly = poly.fit_transform(x_train.reshape(-1,1))\n",
    "    x_test_poly = poly.fit_transform(x_test.reshape(-1,1))\n",
    "    #model = linear_model.LinearRegression()\n",
    "    model.fit(x_train_poly, y_train)\n",
    "    xs = np.linspace(np.min(x_train), np.max(x_train)) # x values for plotting the model line\n",
    "    xs_poly = poly.fit_transform(xs.reshape(-1,1))\n",
    "\n",
    "    ys = model.predict(xs_poly) # get y values from predict()\n",
    "\n",
    "    plt.title(f'Polynomial model for d = {d}')\n",
    "    plt.plot(x_train, y_train, 'ro') # the samples\n",
    "    plt.plot(xs.reshape(-1,1), ys, 'b') # model line\n",
    "    plt.show()\n",
    "    print(\"R^2 training\", model.score(x_train_poly, y_train))\n",
    "    print(\"R^2 test\", model.score(x_test_poly, y_test))"
   ]
  },
  {
   "cell_type": "code",
   "execution_count": 25,
   "metadata": {},
   "outputs": [
    {
     "data": {
      "image/png": "[encoded data removed]",
      "text/plain": [
       "<Figure size 432x288 with 1 Axes>"
      ]
     },
     "metadata": {
      "needs_background": "light"
     },
     "output_type": "display_data"
    },
    {
     "name": "stdout",
     "output_type": "stream",
     "text": [
      "R^2 training 0.4659250595624602\n",
      "R^2 test -0.053154457518086895\n"
     ]
    },
    {
     "data": {
      "image/png": "[encoded data removed]",
      "text/plain": [
       "<Figure size 432x288 with 1 Axes>"
      ]
     },
     "metadata": {
      "needs_background": "light"
     },
     "output_type": "display_data"
    },
    {
     "name": "stdout",
     "output_type": "stream",
     "text": [
      "R^2 training 0.8985873037886085\n",
      "R^2 test 0.9159142455861847\n"
     ]
    },
    {
     "data": {
      "image/png": "[encoded data removed]",
      "text/plain": [
       "<Figure size 432x288 with 1 Axes>"
      ]
     },
     "metadata": {
      "needs_background": "light"
     },
     "output_type": "display_data"
    },
    {
     "name": "stdout",
     "output_type": "stream",
     "text": [
      "R^2 training 0.9004131859114095\n",
      "R^2 test 0.9074716884585443\n"
     ]
    },
    {
     "data": {
      "image/png": "[encoded data removed]",
      "text/plain": [
       "<Figure size 432x288 with 1 Axes>"
      ]
     },
     "metadata": {
      "needs_background": "light"
     },
     "output_type": "display_data"
    },
    {
     "name": "stdout",
     "output_type": "stream",
     "text": [
      "R^2 training 0.9021873996707659\n",
      "R^2 test 0.9169082961448753\n"
     ]
    },
    {
     "data": {
      "image/png": "[encoded data removed]",
      "text/plain": [
       "<Figure size 432x288 with 1 Axes>"
      ]
     },
     "metadata": {
      "needs_background": "light"
     },
     "output_type": "display_data"
    },
    {
     "name": "stdout",
     "output_type": "stream",
     "text": [
      "R^2 training 0.934839343730673\n",
      "R^2 test 0.6085353897218917\n"
     ]
    },
    {
     "data": {
      "image/png": "[encoded data removed]",
      "text/plain": [
       "<Figure size 432x288 with 1 Axes>"
      ]
     },
     "metadata": {
      "needs_background": "light"
     },
     "output_type": "display_data"
    },
    {
     "name": "stdout",
     "output_type": "stream",
     "text": [
      "R^2 training 0.9489524229512787\n",
      "R^2 test -31.90061901356617\n"
     ]
    }
   ],
   "source": [
    "for d in [1,2,3,4,8,12]:\n",
    "    polymodel(x_train, x_test, y_train, y_test, linear_model.LinearRegression(), d)"
   ]
  },
  {
   "cell_type": "markdown",
   "metadata": {},
   "source": [
    "# Regularisation\n",
    "\n",
    "Let's compare 8th order polynomial with and without regularisation. linear_model.Ridge() includes regularization; parameter alpha is the same as lambda in slides - the multiplier in front of the weights squared sum."
   ]
  },
  {
   "cell_type": "code",
   "execution_count": 26,
   "metadata": {},
   "outputs": [
    {
     "data": {
      "image/png": "[encoded data removed]",
      "text/plain": [
       "<Figure size 432x288 with 1 Axes>"
      ]
     },
     "metadata": {
      "needs_background": "light"
     },
     "output_type": "display_data"
    },
    {
     "name": "stdout",
     "output_type": "stream",
     "text": [
      "R^2 training 0.934839343730673\n",
      "R^2 test 0.6085353897218917\n"
     ]
    },
    {
     "data": {
      "image/png": "[encoded data removed]",
      "text/plain": [
       "<Figure size 432x288 with 1 Axes>"
      ]
     },
     "metadata": {
      "needs_background": "light"
     },
     "output_type": "display_data"
    },
    {
     "name": "stdout",
     "output_type": "stream",
     "text": [
      "R^2 training 0.9274477303098785\n",
      "R^2 test 0.8573582282134313\n"
     ]
    }
   ],
   "source": [
    "polymodel(x_train, x_test, y_train, y_test, linear_model.LinearRegression(), 8)\n",
    "polymodel(x_train, x_test, y_train, y_test, linear_model.Ridge(alpha=4.0), 8)"
   ]
  },
  {
   "cell_type": "markdown",
   "metadata": {},
   "source": [
    "# Reading files\n",
    "\n",
    "How to read in data? There are libraries (such as Pandas) that allow for reading in data is just about any format. For reading in the standard csv files numpy is sufficient. Let's first take a look at reading in data in normal jupyter notebook environment, and then colab."
   ]
  },
  {
   "cell_type": "code",
   "execution_count": null,
   "metadata": {},
   "outputs": [],
   "source": [
    "from google.colab import files\n",
    "uploaded = files.upload()"
   ]
  },
  {
   "cell_type": "code",
   "execution_count": 38,
   "metadata": {},
   "outputs": [],
   "source": [
    "from numpy import genfromtxt\n",
    "my_data = genfromtxt('grading.csv', delimiter=',', skip_header=1)"
   ]
  },
  {
   "cell_type": "code",
   "execution_count": 48,
   "metadata": {},
   "outputs": [
    {
     "name": "stdout",
     "output_type": "stream",
     "text": [
      "(20000, 6)\n",
      "(20000, 5) (20000,)\n"
     ]
    }
   ],
   "source": [
    "print(my_data.shape)\n",
    "x = my_data[:,:5] # x values, ie. features are in columns 0-4\n",
    "y = my_data[:,5] # y values are in column 5\n",
    "print(x.shape, y.shape)\n",
    "print(x) # printing large arrays works nicely\n",
    "print(y)\n",
    "# analyse data, look for illegal/missing values."
   ]
  },
  {
   "cell_type": "code",
   "execution_count": null,
   "metadata": {},
   "outputs": [],
   "source": []
  }
 ],
 "metadata": {
  "kernelspec": {
   "display_name": "Python 3",
   "language": "python",
   "name": "python3"
  },
  "language_info": {
   "codemirror_mode": {
    "name": "ipython",
    "version": 3
   },
   "file_extension": ".py",
   "mimetype": "text/x-python",
   "name": "python",
   "nbconvert_exporter": "python",
   "pygments_lexer": "ipython3",
   "version": "3.7.6"
  }
 },
 "nbformat": 4,
 "nbformat_minor": 2
}
