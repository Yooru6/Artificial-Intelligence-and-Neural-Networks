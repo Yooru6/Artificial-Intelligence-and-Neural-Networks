{
 "cells": [
  {
   "cell_type": "markdown",
   "metadata": {},
   "source": [
    "# Exercise 2: Polynomial regression\n",
    "\n",
    "Please write here your name and student id: Joonas Lehikoinen 1607956"
   ]
  },
  {
   "cell_type": "markdown",
   "metadata": {},
   "source": [
    "File dists.csv contains data where each row has data about an experiment where car is stopped from a given speed. Data in the columns is car speed and stopping distance. Target is to create a model with which the stopping distance can be predicted by the speed and the indicator."
   ]
  },
  {
   "cell_type": "code",
   "execution_count": 1,
   "metadata": {},
   "outputs": [],
   "source": [
    "import numpy as np\n",
    "import matplotlib.pyplot as plt\n",
    "from sklearn import preprocessing\n",
    "from sklearn.preprocessing import PolynomialFeatures\n",
    "from sklearn import linear_model\n",
    "from sklearn.model_selection import train_test_split\n",
    "from numpy import genfromtxt\n",
    "import pandas as pd"
   ]
  },
  {
   "cell_type": "markdown",
   "metadata": {},
   "source": [
    "Read the data from file 'dists.csv' to numpy array dist_data"
   ]
  },
  {
   "cell_type": "code",
   "execution_count": 3,
   "metadata": {
    "deletable": false,
    "nbgrader": {
     "cell_type": "code",
     "checksum": "115bac5f6e6c9b6b7d2ce8e92d3d9622",
     "grade": false,
     "grade_id": "cell-588af574d4385d16",
     "locked": false,
     "schema_version": 3,
     "solution": true,
     "task": false
    }
   },
   "outputs": [
    {
     "name": "stdout",
     "output_type": "stream",
     "text": [
      "    speed  distance\n",
      "0      36    144.80\n",
      "1      42    173.20\n",
      "2      17     60.95\n",
      "3      48    188.20\n",
      "4      45    163.75\n",
      "5      27     79.95\n",
      "6      26     74.80\n",
      "7      50    235.00\n",
      "8      20     68.00\n",
      "9      28    109.20\n",
      "10     38    144.20\n",
      "11     76    406.80\n",
      "12     76    435.80\n",
      "13     80    460.00\n",
      "14     64    298.80\n",
      "15     54    224.80\n",
      "16     34    118.80\n",
      "17     73    408.95\n",
      "18     19     71.55\n",
      "19     72    381.20\n",
      "(20, 2)\n"
     ]
    }
   ],
   "source": [
    "#dist_data = ...\n",
    "# YOUR CODE HERE\n",
    "dist_data_pre=pd.read_csv('dists.csv',index_col=None,na_values='?',sep=',')\n",
    "print(dist_data_pre)\n",
    "dist_data=dist_data_pre.values\n",
    "\n",
    "#raise NotImplementedError()\n",
    "print(dist_data.shape)\n",
    "\n"
   ]
  },
  {
   "cell_type": "code",
   "execution_count": 4,
   "metadata": {
    "deletable": false,
    "editable": false,
    "nbgrader": {
     "cell_type": "code",
     "checksum": "f3a0a4532c6518c9d4a2f56bc8c9082b",
     "grade": true,
     "grade_id": "cell-c9d1a4227f9aebc5",
     "locked": true,
     "points": 1,
     "schema_version": 3,
     "solution": false,
     "task": false
    }
   },
   "outputs": [],
   "source": [
    "assert(dist_data.shape[0] == 20)\n",
    "assert(dist_data.shape[1] == 2)"
   ]
  },
  {
   "cell_type": "markdown",
   "metadata": {},
   "source": [
    "Pick to variable x the independent variables and to y the dependent one."
   ]
  },
  {
   "cell_type": "code",
   "execution_count": 5,
   "metadata": {
    "deletable": false,
    "nbgrader": {
     "cell_type": "code",
     "checksum": "655622607ff2fe68e63eb9a07302e922",
     "grade": false,
     "grade_id": "cell-377484b0e2b98c92",
     "locked": false,
     "schema_version": 3,
     "solution": true,
     "task": false
    }
   },
   "outputs": [
    {
     "name": "stdout",
     "output_type": "stream",
     "text": [
      "[[ 36.   144.8 ]\n",
      " [ 42.   173.2 ]\n",
      " [ 17.    60.95]\n",
      " [ 48.   188.2 ]\n",
      " [ 45.   163.75]\n",
      " [ 27.    79.95]\n",
      " [ 26.    74.8 ]\n",
      " [ 50.   235.  ]\n",
      " [ 20.    68.  ]\n",
      " [ 28.   109.2 ]\n",
      " [ 38.   144.2 ]\n",
      " [ 76.   406.8 ]\n",
      " [ 76.   435.8 ]\n",
      " [ 80.   460.  ]\n",
      " [ 64.   298.8 ]\n",
      " [ 54.   224.8 ]\n",
      " [ 34.   118.8 ]\n",
      " [ 73.   408.95]\n",
      " [ 19.    71.55]\n",
      " [ 72.   381.2 ]]\n"
     ]
    }
   ],
   "source": [
    "x = dist_data[:,[0]] \n",
    "y =dist_data[:,[1]]\n",
    "# YOUR CODE HERE\n",
    "print(np.concatenate((x,y),axis=1))\n",
    "\n",
    "#raise NotImplementedError()"
   ]
  },
  {
   "cell_type": "code",
   "execution_count": 6,
   "metadata": {
    "deletable": false,
    "editable": false,
    "nbgrader": {
     "cell_type": "code",
     "checksum": "b308fbecf3f3f3fbd6e6cfe711b83783",
     "grade": true,
     "grade_id": "cell-5b14b3e213457fe7",
     "locked": true,
     "points": 1,
     "schema_version": 3,
     "solution": false,
     "task": false
    }
   },
   "outputs": [],
   "source": [
    "assert(x.shape == (20,1))\n",
    "assert(y.shape[0] == 20)"
   ]
  },
  {
   "cell_type": "markdown",
   "metadata": {},
   "source": [
    "Create a scatterplot of the data with speed on x axis, distance on y axis."
   ]
  },
  {
   "cell_type": "code",
   "execution_count": 10,
   "metadata": {},
   "outputs": [
    {
     "data": {
      "image/png": "[encoded data removed]",
      "text/plain": [
       "<Figure size 432x288 with 1 Axes>"
      ]
     },
     "metadata": {
      "needs_background": "light"
     },
     "output_type": "display_data"
    }
   ],
   "source": [
    "plt.plot(x, y, 'ro')\n",
    "plt.show()"
   ]
  },
  {
   "cell_type": "markdown",
   "metadata": {},
   "source": [
    "Scale the data (although not mandatory in this 1-dimensional case)"
   ]
  },
  {
   "cell_type": "code",
   "execution_count": 11,
   "metadata": {
    "deletable": false,
    "nbgrader": {
     "cell_type": "code",
     "checksum": "b2f57e2220ab902291962a3032c07f20",
     "grade": false,
     "grade_id": "cell-6bc1dfc7321b6398",
     "locked": false,
     "schema_version": 3,
     "solution": true,
     "task": false
    }
   },
   "outputs": [],
   "source": [
    "scaler = preprocessing.StandardScaler()\n",
    "#scaled_x=(x-dist_data_pre['speed'].mean())/dist_data_pre['speed'].std()\n",
    "\n",
    "scaled_x= scaler.fit(x).transform(x)\n",
    "# YOUR CODE HERE\n",
    "#raise NotImplementedError()"
   ]
  },
  {
   "cell_type": "code",
   "execution_count": 12,
   "metadata": {
    "deletable": false,
    "editable": false,
    "nbgrader": {
     "cell_type": "code",
     "checksum": "a5aaaa64927654d1fdb32cbf5cce9c38",
     "grade": true,
     "grade_id": "cell-c6645903431f9d8b",
     "locked": true,
     "points": 2,
     "schema_version": 3,
     "solution": false,
     "task": false
    }
   },
   "outputs": [],
   "source": [
    "eps = 0.001\n",
    "assert(np.sum(scaled_x.mean(axis=0)) < eps)\n",
    "assert(np.sum(scaled_x.std(axis=0)) < 1 + eps)"
   ]
  },
  {
   "cell_type": "markdown",
   "metadata": {},
   "source": [
    "Split the data into training and test sets, with 30% in test set."
   ]
  },
  {
   "cell_type": "code",
   "execution_count": 13,
   "metadata": {
    "deletable": false,
    "nbgrader": {
     "cell_type": "code",
     "checksum": "d6b22603315c89a8ee6d00f0ab8d454b",
     "grade": false,
     "grade_id": "cell-ecbf117fb19f7ac6",
     "locked": false,
     "schema_version": 3,
     "solution": true,
     "task": false
    }
   },
   "outputs": [],
   "source": [
    "np.random.seed(42) # Please do not remove\n",
    "x_train, x_test, y_train, y_test = train_test_split(scaled_x,y,test_size=0.3)\n",
    "# YOUR CODE HERE\n",
    "#raise NotImplementedError()"
   ]
  },
  {
   "cell_type": "code",
   "execution_count": 14,
   "metadata": {
    "deletable": false,
    "editable": false,
    "nbgrader": {
     "cell_type": "code",
     "checksum": "6c3ca6de8eb98133a04587fa1e99668d",
     "grade": true,
     "grade_id": "cell-24a998afa0ad52ee",
     "locked": true,
     "points": 2,
     "schema_version": 3,
     "solution": false,
     "task": false
    }
   },
   "outputs": [],
   "source": [
    "assert(x_train.shape == (14,1))\n",
    "assert(x_test.shape == (6,1))"
   ]
  },
  {
   "cell_type": "markdown",
   "metadata": {},
   "source": [
    "Create polynomial features for 10th degree polynomial model."
   ]
  },
  {
   "cell_type": "code",
   "execution_count": 15,
   "metadata": {
    "deletable": false,
    "nbgrader": {
     "cell_type": "code",
     "checksum": "d3fc80034f82d322b249b75b4b17f638",
     "grade": false,
     "grade_id": "cell-68a7db6d0aa7b112",
     "locked": false,
     "schema_version": 3,
     "solution": true,
     "task": false
    }
   },
   "outputs": [
    {
     "name": "stdout",
     "output_type": "stream",
     "text": [
      "[ 1.          1.44960351  2.10135035  3.04612485  4.41567329  6.40097552\n",
      "  9.2788766  13.45069213 19.49817059 28.26461661 40.97248756]\n"
     ]
    }
   ],
   "source": [
    "poly = PolynomialFeatures(10)\n",
    "x_train_poly = poly.fit_transform(x_train.reshape(-1,1)) \n",
    "x_test_poly = poly.fit_transform(x_test.reshape(-1,1))\n",
    "# YOUR CODE HERE\n",
    "#raise NotImplementedError()\n",
    "print(x_train_poly[0])"
   ]
  },
  {
   "cell_type": "code",
   "execution_count": 16,
   "metadata": {
    "deletable": false,
    "editable": false,
    "nbgrader": {
     "cell_type": "code",
     "checksum": "8b434bf8692391e073b7df0c012a9feb",
     "grade": true,
     "grade_id": "cell-a9788c2296dfafc8",
     "locked": true,
     "points": 3,
     "schema_version": 3,
     "solution": false,
     "task": false
    }
   },
   "outputs": [],
   "source": [
    "assert(x_train_poly.shape == (14,11))\n",
    "assert(x_test_poly.shape == (6,11))"
   ]
  },
  {
   "cell_type": "code",
   "execution_count": 17,
   "metadata": {
    "deletable": false,
    "nbgrader": {
     "cell_type": "code",
     "checksum": "e9d693e8f1979acfe4ea7ab7556c563f",
     "grade": false,
     "grade_id": "cell-95b7bbc6da2b6c33",
     "locked": false,
     "schema_version": 3,
     "solution": true,
     "task": false
    }
   },
   "outputs": [
    {
     "data": {
      "text/plain": [
       "131.58005903378069"
      ]
     },
     "execution_count": 17,
     "metadata": {},
     "output_type": "execute_result"
    }
   ],
   "source": [
    "model = linear_model.LinearRegression()\n",
    "model = model.fit(x_train_poly,y_train)\n",
    "# YOUR CODE HERE\n",
    "#raise NotImplementedError()\n",
    "np.sum(model.coef_)"
   ]
  },
  {
   "cell_type": "code",
   "execution_count": 18,
   "metadata": {
    "deletable": false,
    "editable": false,
    "nbgrader": {
     "cell_type": "code",
     "checksum": "99a75a9bdff95a39a8e392bc4aba0a44",
     "grade": true,
     "grade_id": "cell-ddedcd2a83ef7825",
     "locked": true,
     "points": 4,
     "schema_version": 3,
     "solution": false,
     "task": false
    }
   },
   "outputs": [],
   "source": [
    "assert(np.sum(model.coef_) - 131.58 < eps)"
   ]
  },
  {
   "cell_type": "code",
   "execution_count": 19,
   "metadata": {
    "deletable": false,
    "nbgrader": {
     "cell_type": "code",
     "checksum": "41d52c2782f0198957d678c36e570114",
     "grade": false,
     "grade_id": "cell-06002890a21dda26",
     "locked": false,
     "schema_version": 3,
     "solution": true,
     "task": false
    }
   },
   "outputs": [
    {
     "name": "stdout",
     "output_type": "stream",
     "text": [
      "0.9962023409363848 0.9378221726965986\n"
     ]
    }
   ],
   "source": [
    "plain_poly_r2_train = model.score(x_train_poly,y_train)\n",
    "plain_poly_r2_test = model.score(x_test_poly,y_test)\n",
    "# YOUR CODE HERE\n",
    "#raise NotImplementedError()\n",
    "print(plain_poly_r2_train, plain_poly_r2_test)"
   ]
  },
  {
   "cell_type": "code",
   "execution_count": 20,
   "metadata": {
    "deletable": false,
    "editable": false,
    "nbgrader": {
     "cell_type": "code",
     "checksum": "bd4807f2944db2fd33a03bc4cd3e04df",
     "grade": true,
     "grade_id": "cell-2d69af3561943d16",
     "locked": true,
     "points": 3,
     "schema_version": 3,
     "solution": false,
     "task": false
    }
   },
   "outputs": [],
   "source": [
    "assert(plain_poly_r2_train - 0.9962 < eps)\n",
    "assert(plain_poly_r2_test - 0.9378 < eps)"
   ]
  },
  {
   "cell_type": "code",
   "execution_count": 40,
   "metadata": {
    "deletable": false,
    "nbgrader": {
     "cell_type": "code",
     "checksum": "d201318961852e12c77387838ae86ca8",
     "grade": false,
     "grade_id": "cell-4d9bb52e59b05a09",
     "locked": false,
     "schema_version": 3,
     "solution": true,
     "task": false
    }
   },
   "outputs": [
    {
     "name": "stdout",
     "output_type": "stream",
     "text": [
      "0.9513883126631829\n",
      "80.93995361019405\n"
     ]
    }
   ],
   "source": [
    "regmodel = linear_model.Ridge(alpha=6.0)\n",
    "regmodel = regmodel.fit(x_train_poly,y_train)\n",
    "# ...\n",
    "reg_poly_r2_train = regmodel.score(x_train_poly,y_train)\n",
    "reg_poly_r2_test = regmodel.score(x_test_poly,y_test)\n",
    "\n",
    "print(reg_poly_r2_train)\n",
    "print(np.sum(regmodel.coef_))\n",
    "\n",
    "# YOUR CODE HERE\n",
    "#raise NotImplementedError()"
   ]
  },
  {
   "cell_type": "code",
   "execution_count": 41,
   "metadata": {
    "deletable": false,
    "editable": false,
    "nbgrader": {
     "cell_type": "code",
     "checksum": "39683ebdeaf401ca61fe82a2bd2f9f3a",
     "grade": true,
     "grade_id": "cell-95c15df8fe7a27ef",
     "locked": true,
     "points": 4,
     "schema_version": 3,
     "solution": false,
     "task": false
    }
   },
   "outputs": [],
   "source": [
    "assert(np.sum(regmodel.coef_) - 116.37 < eps)\n",
    "assert(reg_poly_r2_train - 0.984 < eps)\n",
    "assert(reg_poly_r2_test - 0.9827 < eps)"
   ]
  },
  {
   "cell_type": "code",
   "execution_count": 42,
   "metadata": {},
   "outputs": [
    {
     "data": {
      "image/png": "[encoded data removed]",
      "text/plain": [
       "<Figure size 432x288 with 1 Axes>"
      ]
     },
     "metadata": {
      "needs_background": "light"
     },
     "output_type": "display_data"
    }
   ],
   "source": [
    "\n",
    "xs = np.linspace(x.min(),x.max()) # x values for plotting the model line\n",
    "xs_poly = poly.fit_transform(scaler.transform(xs.reshape(-1,1)))\n",
    "\n",
    "ys = model.predict(xs_poly) # get y values from predict()\n",
    "regys = regmodel.predict(xs_poly) # get y values from predict()\n",
    "\n",
    "plt.plot(x, y, 'ro')\n",
    "plt.plot(xs, ys, 'b')\n",
    "plt.plot(xs, regys, 'g')\n",
    "plt.show()"
   ]
  },
  {
   "cell_type": "code",
   "execution_count": null,
   "metadata": {},
   "outputs": [],
   "source": []
  }
 ],
 "metadata": {
  "kernelspec": {
   "display_name": "Python 3",
   "language": "python",
   "name": "python3"
  },
  "language_info": {
   "codemirror_mode": {
    "name": "ipython",
    "version": 3
   },
   "file_extension": ".py",
   "mimetype": "text/x-python",
   "name": "python",
   "nbconvert_exporter": "python",
   "pygments_lexer": "ipython3",
   "version": "3.7.6"
  }
 },
 "nbformat": 4,
 "nbformat_minor": 2
}
